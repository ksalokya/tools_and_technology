{
 "cells": [
  {
   "cell_type": "code",
   "execution_count": 1,
   "id": "0280f01d",
   "metadata": {},
   "outputs": [],
   "source": [
    "import pandas as pd\n",
    "import numpy as np\n",
    "import seaborn as sns\n",
    "import matplotlib.pyplot as plt\n",
    "from matplotlib.cbook import boxplot_stats\n",
    "%matplotlib inline\n",
    "\n",
    "sns.set(style=\"darkgrid\")"
   ]
  },
  {
   "cell_type": "code",
   "execution_count": 2,
   "id": "e6bf6596",
   "metadata": {
    "scrolled": false
   },
   "outputs": [
    {
     "data": {
      "text/html": [
       "<div>\n",
       "<style scoped>\n",
       "    .dataframe tbody tr th:only-of-type {\n",
       "        vertical-align: middle;\n",
       "    }\n",
       "\n",
       "    .dataframe tbody tr th {\n",
       "        vertical-align: top;\n",
       "    }\n",
       "\n",
       "    .dataframe thead th {\n",
       "        text-align: right;\n",
       "    }\n",
       "</style>\n",
       "<table border=\"1\" class=\"dataframe\">\n",
       "  <thead>\n",
       "    <tr style=\"text-align: right;\">\n",
       "      <th></th>\n",
       "      <th>dateCrawled</th>\n",
       "      <th>name</th>\n",
       "      <th>seller</th>\n",
       "      <th>offerType</th>\n",
       "      <th>price</th>\n",
       "      <th>abtest</th>\n",
       "      <th>vehicleType</th>\n",
       "      <th>yearOfRegistration</th>\n",
       "      <th>gearbox</th>\n",
       "      <th>powerPS</th>\n",
       "      <th>model</th>\n",
       "      <th>kilometer</th>\n",
       "      <th>monthOfRegistration</th>\n",
       "      <th>fuelType</th>\n",
       "      <th>brand</th>\n",
       "      <th>notRepairedDamage</th>\n",
       "      <th>dateCreated</th>\n",
       "      <th>postalCode</th>\n",
       "      <th>lastSeen</th>\n",
       "    </tr>\n",
       "  </thead>\n",
       "  <tbody>\n",
       "    <tr>\n",
       "      <th>0</th>\n",
       "      <td>30/03/2016 13:51</td>\n",
       "      <td>Zu_verkaufen</td>\n",
       "      <td>private</td>\n",
       "      <td>offer</td>\n",
       "      <td>4450</td>\n",
       "      <td>test</td>\n",
       "      <td>limousine</td>\n",
       "      <td>2003</td>\n",
       "      <td>manual</td>\n",
       "      <td>150</td>\n",
       "      <td>3er</td>\n",
       "      <td>150000</td>\n",
       "      <td>3</td>\n",
       "      <td>diesel</td>\n",
       "      <td>bmw</td>\n",
       "      <td>NaN</td>\n",
       "      <td>30/03/2016 0:00</td>\n",
       "      <td>20257</td>\n",
       "      <td>7/4/2016 4:44</td>\n",
       "    </tr>\n",
       "    <tr>\n",
       "      <th>1</th>\n",
       "      <td>7/3/2016 9:54</td>\n",
       "      <td>Volvo_XC90_2.4D_Summum</td>\n",
       "      <td>private</td>\n",
       "      <td>offer</td>\n",
       "      <td>13299</td>\n",
       "      <td>control</td>\n",
       "      <td>suv</td>\n",
       "      <td>2005</td>\n",
       "      <td>manual</td>\n",
       "      <td>163</td>\n",
       "      <td>xc_reihe</td>\n",
       "      <td>150000</td>\n",
       "      <td>6</td>\n",
       "      <td>diesel</td>\n",
       "      <td>volvo</td>\n",
       "      <td>no</td>\n",
       "      <td>7/3/2016 0:00</td>\n",
       "      <td>88045</td>\n",
       "      <td>26/03/2016 13:17</td>\n",
       "    </tr>\n",
       "    <tr>\n",
       "      <th>2</th>\n",
       "      <td>1/4/2016 0:57</td>\n",
       "      <td>Volkswagen_Touran</td>\n",
       "      <td>private</td>\n",
       "      <td>offer</td>\n",
       "      <td>3200</td>\n",
       "      <td>test</td>\n",
       "      <td>bus</td>\n",
       "      <td>2003</td>\n",
       "      <td>manual</td>\n",
       "      <td>101</td>\n",
       "      <td>touran</td>\n",
       "      <td>150000</td>\n",
       "      <td>11</td>\n",
       "      <td>diesel</td>\n",
       "      <td>volkswagen</td>\n",
       "      <td>NaN</td>\n",
       "      <td>31/03/2016 0:00</td>\n",
       "      <td>27449</td>\n",
       "      <td>1/4/2016 8:40</td>\n",
       "    </tr>\n",
       "    <tr>\n",
       "      <th>3</th>\n",
       "      <td>19/03/2016 17:50</td>\n",
       "      <td>Seat_Ibiza_1.4_16V_Reference</td>\n",
       "      <td>private</td>\n",
       "      <td>offer</td>\n",
       "      <td>4500</td>\n",
       "      <td>control</td>\n",
       "      <td>small car</td>\n",
       "      <td>2006</td>\n",
       "      <td>manual</td>\n",
       "      <td>86</td>\n",
       "      <td>ibiza</td>\n",
       "      <td>60000</td>\n",
       "      <td>12</td>\n",
       "      <td>petrol</td>\n",
       "      <td>seat</td>\n",
       "      <td>no</td>\n",
       "      <td>19/03/2016 0:00</td>\n",
       "      <td>34537</td>\n",
       "      <td>7/4/2016 4:44</td>\n",
       "    </tr>\n",
       "    <tr>\n",
       "      <th>4</th>\n",
       "      <td>16/03/2016 14:51</td>\n",
       "      <td>Volvo_XC90_D5_Aut._RDesign_R_Design_AWD_GSHD_S...</td>\n",
       "      <td>private</td>\n",
       "      <td>offer</td>\n",
       "      <td>18750</td>\n",
       "      <td>test</td>\n",
       "      <td>suv</td>\n",
       "      <td>2008</td>\n",
       "      <td>automatic</td>\n",
       "      <td>185</td>\n",
       "      <td>xc_reihe</td>\n",
       "      <td>150000</td>\n",
       "      <td>11</td>\n",
       "      <td>diesel</td>\n",
       "      <td>volvo</td>\n",
       "      <td>no</td>\n",
       "      <td>16/03/2016 0:00</td>\n",
       "      <td>55270</td>\n",
       "      <td>1/4/2016 23:18</td>\n",
       "    </tr>\n",
       "  </tbody>\n",
       "</table>\n",
       "</div>"
      ],
      "text/plain": [
       "        dateCrawled                                               name  \\\n",
       "0  30/03/2016 13:51                                       Zu_verkaufen   \n",
       "1     7/3/2016 9:54                             Volvo_XC90_2.4D_Summum   \n",
       "2     1/4/2016 0:57                                  Volkswagen_Touran   \n",
       "3  19/03/2016 17:50                       Seat_Ibiza_1.4_16V_Reference   \n",
       "4  16/03/2016 14:51  Volvo_XC90_D5_Aut._RDesign_R_Design_AWD_GSHD_S...   \n",
       "\n",
       "    seller offerType  price   abtest vehicleType  yearOfRegistration  \\\n",
       "0  private     offer   4450     test   limousine                2003   \n",
       "1  private     offer  13299  control         suv                2005   \n",
       "2  private     offer   3200     test         bus                2003   \n",
       "3  private     offer   4500  control   small car                2006   \n",
       "4  private     offer  18750     test         suv                2008   \n",
       "\n",
       "     gearbox  powerPS     model  kilometer  monthOfRegistration fuelType  \\\n",
       "0     manual      150       3er     150000                    3   diesel   \n",
       "1     manual      163  xc_reihe     150000                    6   diesel   \n",
       "2     manual      101    touran     150000                   11   diesel   \n",
       "3     manual       86     ibiza      60000                   12   petrol   \n",
       "4  automatic      185  xc_reihe     150000                   11   diesel   \n",
       "\n",
       "        brand notRepairedDamage      dateCreated  postalCode          lastSeen  \n",
       "0         bmw               NaN  30/03/2016 0:00       20257     7/4/2016 4:44  \n",
       "1       volvo                no    7/3/2016 0:00       88045  26/03/2016 13:17  \n",
       "2  volkswagen               NaN  31/03/2016 0:00       27449     1/4/2016 8:40  \n",
       "3        seat                no  19/03/2016 0:00       34537     7/4/2016 4:44  \n",
       "4       volvo                no  16/03/2016 0:00       55270    1/4/2016 23:18  "
      ]
     },
     "execution_count": 2,
     "metadata": {},
     "output_type": "execute_result"
    }
   ],
   "source": [
    "df = pd.read_csv(\"cars_sampled.csv\", encoding='latin-1')\n",
    "df.head()"
   ]
  },
  {
   "cell_type": "markdown",
   "id": "f4a273f3",
   "metadata": {},
   "source": [
    "# 1.Find out if following variables are significant or insignificant and need to be dropped.\n",
    "\n",
    "# 2. Drop insignificant variables from dataframe ‘cars’."
   ]
  },
  {
   "cell_type": "markdown",
   "id": "89137205",
   "metadata": {},
   "source": [
    "### 1. Seller"
   ]
  },
  {
   "cell_type": "code",
   "execution_count": 3,
   "id": "b1e53dc7",
   "metadata": {},
   "outputs": [
    {
     "data": {
      "text/plain": [
       "private       49999\n",
       "commercial        2\n",
       "Name: seller, dtype: int64"
      ]
     },
     "execution_count": 3,
     "metadata": {},
     "output_type": "execute_result"
    }
   ],
   "source": [
    "df.seller.value_counts()"
   ]
  },
  {
   "cell_type": "code",
   "execution_count": 4,
   "id": "3a4a59f7",
   "metadata": {},
   "outputs": [],
   "source": [
    "df = df.drop(\"seller\",axis=1)"
   ]
  },
  {
   "cell_type": "markdown",
   "id": "25fda9ec",
   "metadata": {},
   "source": [
    "###  2. Offer Type"
   ]
  },
  {
   "cell_type": "code",
   "execution_count": 5,
   "id": "ac45efb6",
   "metadata": {},
   "outputs": [
    {
     "data": {
      "text/plain": [
       "offer      49998\n",
       "request        3\n",
       "Name: offerType, dtype: int64"
      ]
     },
     "execution_count": 5,
     "metadata": {},
     "output_type": "execute_result"
    }
   ],
   "source": [
    "df.offerType.value_counts()"
   ]
  },
  {
   "cell_type": "code",
   "execution_count": 6,
   "id": "6b77d5c4",
   "metadata": {},
   "outputs": [],
   "source": [
    "df = df.drop(\"offerType\",axis=1)"
   ]
  },
  {
   "cell_type": "markdown",
   "id": "a2ed3375",
   "metadata": {},
   "source": [
    "###  3. AB Test"
   ]
  },
  {
   "cell_type": "code",
   "execution_count": 7,
   "id": "6203b31b",
   "metadata": {},
   "outputs": [
    {
     "data": {
      "text/plain": [
       "test       25869\n",
       "control    24132\n",
       "Name: abtest, dtype: int64"
      ]
     },
     "execution_count": 7,
     "metadata": {},
     "output_type": "execute_result"
    }
   ],
   "source": [
    "df.abtest.value_counts()"
   ]
  },
  {
   "cell_type": "code",
   "execution_count": 8,
   "id": "8c0b3cb2",
   "metadata": {},
   "outputs": [
    {
     "data": {
      "text/html": [
       "<div>\n",
       "<style scoped>\n",
       "    .dataframe tbody tr th:only-of-type {\n",
       "        vertical-align: middle;\n",
       "    }\n",
       "\n",
       "    .dataframe tbody tr th {\n",
       "        vertical-align: top;\n",
       "    }\n",
       "\n",
       "    .dataframe thead tr th {\n",
       "        text-align: left;\n",
       "    }\n",
       "\n",
       "    .dataframe thead tr:last-of-type th {\n",
       "        text-align: right;\n",
       "    }\n",
       "</style>\n",
       "<table border=\"1\" class=\"dataframe\">\n",
       "  <thead>\n",
       "    <tr>\n",
       "      <th></th>\n",
       "      <th colspan=\"3\" halign=\"left\">price</th>\n",
       "    </tr>\n",
       "    <tr>\n",
       "      <th></th>\n",
       "      <th>mean</th>\n",
       "      <th>var</th>\n",
       "      <th>count</th>\n",
       "    </tr>\n",
       "    <tr>\n",
       "      <th>abtest</th>\n",
       "      <th></th>\n",
       "      <th></th>\n",
       "      <th></th>\n",
       "    </tr>\n",
       "  </thead>\n",
       "  <tbody>\n",
       "    <tr>\n",
       "      <th>control</th>\n",
       "      <td>6311.930424</td>\n",
       "      <td>4.600660e+09</td>\n",
       "      <td>24132</td>\n",
       "    </tr>\n",
       "    <tr>\n",
       "      <th>test</th>\n",
       "      <td>6791.152654</td>\n",
       "      <td>9.943525e+09</td>\n",
       "      <td>25869</td>\n",
       "    </tr>\n",
       "  </tbody>\n",
       "</table>\n",
       "</div>"
      ],
      "text/plain": [
       "               price                     \n",
       "                mean           var  count\n",
       "abtest                                   \n",
       "control  6311.930424  4.600660e+09  24132\n",
       "test     6791.152654  9.943525e+09  25869"
      ]
     },
     "execution_count": 8,
     "metadata": {},
     "output_type": "execute_result"
    }
   ],
   "source": [
    "abtest_stats = df.groupby(\"abtest\").agg({\"price\" : [\"mean\",\"var\",\"count\"]})\n",
    "abtest_stats"
   ]
  },
  {
   "cell_type": "code",
   "execution_count": 9,
   "id": "8e1542ab",
   "metadata": {},
   "outputs": [
    {
     "name": "stdout",
     "output_type": "stream",
     "text": [
      "Probability of std-normal: 0.2637047048274638\n"
     ]
    }
   ],
   "source": [
    "import scipy.stats as st\n",
    "\n",
    "z_abtest= (abtest_stats[('price','mean')][1] - abtest_stats[('price','mean')][0]) / np.sqrt((abtest_stats[('price','var')][1]/abtest_stats[('price','count')][1]) + (abtest_stats[('price','var')][0]/abtest_stats[('price','count')][0]))\n",
    "\n",
    "print(f\"Probability of std-normal: {st.norm.sf(abs(z_abtest))}\")"
   ]
  },
  {
   "cell_type": "code",
   "execution_count": 10,
   "id": "1e448e6d",
   "metadata": {},
   "outputs": [],
   "source": [
    "df = df.drop(\"abtest\", axis=1)"
   ]
  },
  {
   "cell_type": "markdown",
   "id": "3588eef6",
   "metadata": {},
   "source": [
    "### 4. Gearbox"
   ]
  },
  {
   "cell_type": "code",
   "execution_count": 11,
   "id": "fea46f4b",
   "metadata": {},
   "outputs": [
    {
     "data": {
      "text/plain": [
       "manual       36732\n",
       "automatic    10445\n",
       "Name: gearbox, dtype: int64"
      ]
     },
     "execution_count": 11,
     "metadata": {},
     "output_type": "execute_result"
    }
   ],
   "source": [
    "df.gearbox.value_counts()"
   ]
  },
  {
   "cell_type": "code",
   "execution_count": 12,
   "id": "a586189b",
   "metadata": {},
   "outputs": [
    {
     "data": {
      "text/html": [
       "<div>\n",
       "<style scoped>\n",
       "    .dataframe tbody tr th:only-of-type {\n",
       "        vertical-align: middle;\n",
       "    }\n",
       "\n",
       "    .dataframe tbody tr th {\n",
       "        vertical-align: top;\n",
       "    }\n",
       "\n",
       "    .dataframe thead tr th {\n",
       "        text-align: left;\n",
       "    }\n",
       "\n",
       "    .dataframe thead tr:last-of-type th {\n",
       "        text-align: right;\n",
       "    }\n",
       "</style>\n",
       "<table border=\"1\" class=\"dataframe\">\n",
       "  <thead>\n",
       "    <tr>\n",
       "      <th></th>\n",
       "      <th colspan=\"3\" halign=\"left\">price</th>\n",
       "    </tr>\n",
       "    <tr>\n",
       "      <th></th>\n",
       "      <th>mean</th>\n",
       "      <th>var</th>\n",
       "      <th>count</th>\n",
       "    </tr>\n",
       "    <tr>\n",
       "      <th>gearbox</th>\n",
       "      <th></th>\n",
       "      <th></th>\n",
       "      <th></th>\n",
       "    </tr>\n",
       "  </thead>\n",
       "  <tbody>\n",
       "    <tr>\n",
       "      <th>automatic</th>\n",
       "      <td>10668.584586</td>\n",
       "      <td>2.130006e+08</td>\n",
       "      <td>10445</td>\n",
       "    </tr>\n",
       "    <tr>\n",
       "      <th>manual</th>\n",
       "      <td>5267.382282</td>\n",
       "      <td>6.974181e+09</td>\n",
       "      <td>36732</td>\n",
       "    </tr>\n",
       "  </tbody>\n",
       "</table>\n",
       "</div>"
      ],
      "text/plain": [
       "                  price                     \n",
       "                   mean           var  count\n",
       "gearbox                                     \n",
       "automatic  10668.584586  2.130006e+08  10445\n",
       "manual      5267.382282  6.974181e+09  36732"
      ]
     },
     "execution_count": 12,
     "metadata": {},
     "output_type": "execute_result"
    }
   ],
   "source": [
    "gearbox_stats = df.groupby(\"gearbox\").agg({\"price\" : [\"mean\",\"var\",\"count\"]})\n",
    "gearbox_stats"
   ]
  },
  {
   "cell_type": "code",
   "execution_count": 13,
   "id": "99e04d4c",
   "metadata": {},
   "outputs": [
    {
     "name": "stdout",
     "output_type": "stream",
     "text": [
      "Probability of std-normal: 2.5005546480844033e-32\n"
     ]
    }
   ],
   "source": [
    "z_gearbox = (gearbox_stats[('price','mean')][1] - gearbox_stats[('price','mean')][0]) / np.sqrt((gearbox_stats[('price','var')][1]/gearbox_stats[('price','count')][1]) + (gearbox_stats[('price','var')][0]/gearbox_stats[('price','count')][0]))\n",
    "\n",
    "print(f\"Probability of std-normal: {st.norm.sf(abs(z_gearbox))}\")"
   ]
  },
  {
   "cell_type": "markdown",
   "id": "debaa9ff",
   "metadata": {},
   "source": [
    "### 5. Brand"
   ]
  },
  {
   "cell_type": "code",
   "execution_count": 14,
   "id": "deb963ce",
   "metadata": {},
   "outputs": [
    {
     "data": {
      "text/plain": [
       "['volkswagen',\n",
       " 'bmw',\n",
       " 'opel',\n",
       " 'mercedes_benz',\n",
       " 'audi',\n",
       " 'ford',\n",
       " 'renault',\n",
       " 'peugeot']"
      ]
     },
     "execution_count": 14,
     "metadata": {},
     "output_type": "execute_result"
    }
   ],
   "source": [
    "brand_count = df.brand.value_counts()\n",
    "brand_count_mean = brand_count.mean()\n",
    "selected_brands = list(brand_count[brand_count > brand_count_mean].index)[:10]\n",
    "selected_brands"
   ]
  },
  {
   "cell_type": "code",
   "execution_count": 15,
   "id": "afb1d1b7",
   "metadata": {},
   "outputs": [],
   "source": [
    "df= df[df[\"brand\"].isin(selected_brands)]\n",
    "df[\"brand\"]=df.brand.apply(lambda x : selected_brands.index(x))"
   ]
  },
  {
   "cell_type": "code",
   "execution_count": 16,
   "id": "075e9188",
   "metadata": {},
   "outputs": [
    {
     "data": {
      "text/plain": [
       "<AxesSubplot:xlabel='brand', ylabel='price'>"
      ]
     },
     "execution_count": 16,
     "metadata": {},
     "output_type": "execute_result"
    },
    {
     "data": {
      "image/png": "[encoded data removed]",
      "text/plain": [
       "<Figure size 720x720 with 1 Axes>"
      ]
     },
     "metadata": {},
     "output_type": "display_data"
    }
   ],
   "source": [
    "plt.figure(figsize=(10,10))\n",
    "sns.boxplot(x=\"brand\",y=\"price\",data= df)"
   ]
  },
  {
   "cell_type": "markdown",
   "id": "d18c21ec",
   "metadata": {},
   "source": [
    "### 6. Not Repaired Damage"
   ]
  },
  {
   "cell_type": "code",
   "execution_count": 17,
   "id": "ebe24675",
   "metadata": {},
   "outputs": [
    {
     "data": {
      "text/plain": [
       "no     26829\n",
       "yes     3795\n",
       "Name: notRepairedDamage, dtype: int64"
      ]
     },
     "execution_count": 17,
     "metadata": {},
     "output_type": "execute_result"
    }
   ],
   "source": [
    "df.notRepairedDamage.value_counts()"
   ]
  },
  {
   "cell_type": "code",
   "execution_count": 18,
   "id": "6049ed8c",
   "metadata": {},
   "outputs": [],
   "source": [
    "df[\"notRepairedDamage\"] = df.notRepairedDamage.apply(lambda x : 0 if x ==\"no\" else (1 if x ==\"yes\" else np.nan))\n",
    "df= df[~df.notRepairedDamage.isna()]"
   ]
  },
  {
   "cell_type": "code",
   "execution_count": 19,
   "id": "efbd15c8",
   "metadata": {},
   "outputs": [
    {
     "data": {
      "text/html": [
       "<div>\n",
       "<style scoped>\n",
       "    .dataframe tbody tr th:only-of-type {\n",
       "        vertical-align: middle;\n",
       "    }\n",
       "\n",
       "    .dataframe tbody tr th {\n",
       "        vertical-align: top;\n",
       "    }\n",
       "\n",
       "    .dataframe thead tr th {\n",
       "        text-align: left;\n",
       "    }\n",
       "\n",
       "    .dataframe thead tr:last-of-type th {\n",
       "        text-align: right;\n",
       "    }\n",
       "</style>\n",
       "<table border=\"1\" class=\"dataframe\">\n",
       "  <thead>\n",
       "    <tr>\n",
       "      <th></th>\n",
       "      <th colspan=\"3\" halign=\"left\">price</th>\n",
       "    </tr>\n",
       "    <tr>\n",
       "      <th></th>\n",
       "      <th>mean</th>\n",
       "      <th>var</th>\n",
       "      <th>count</th>\n",
       "    </tr>\n",
       "    <tr>\n",
       "      <th>notRepairedDamage</th>\n",
       "      <th></th>\n",
       "      <th></th>\n",
       "      <th></th>\n",
       "    </tr>\n",
       "  </thead>\n",
       "  <tbody>\n",
       "    <tr>\n",
       "      <th>0.0</th>\n",
       "      <td>7350.865742</td>\n",
       "      <td>5.745190e+09</td>\n",
       "      <td>26829</td>\n",
       "    </tr>\n",
       "    <tr>\n",
       "      <th>1.0</th>\n",
       "      <td>2105.657708</td>\n",
       "      <td>1.205598e+07</td>\n",
       "      <td>3795</td>\n",
       "    </tr>\n",
       "  </tbody>\n",
       "</table>\n",
       "</div>"
      ],
      "text/plain": [
       "                         price                     \n",
       "                          mean           var  count\n",
       "notRepairedDamage                                  \n",
       "0.0                7350.865742  5.745190e+09  26829\n",
       "1.0                2105.657708  1.205598e+07   3795"
      ]
     },
     "execution_count": 19,
     "metadata": {},
     "output_type": "execute_result"
    }
   ],
   "source": [
    "notRepairedDamage_stats=df.groupby(\"notRepairedDamage\").agg({\"price\":[\"mean\",\"var\",\"count\"]})\n",
    "notRepairedDamage_stats"
   ]
  },
  {
   "cell_type": "code",
   "execution_count": 20,
   "id": "cd7445a5",
   "metadata": {},
   "outputs": [
    {
     "name": "stdout",
     "output_type": "stream",
     "text": [
      "Probability of std-normal: 1.1369014708952156e-29\n"
     ]
    }
   ],
   "source": [
    "z_notRepairedDamage = (notRepairedDamage_stats[('price','mean')][1] - notRepairedDamage_stats[('price','mean')][0]) / np.sqrt((notRepairedDamage_stats[('price','var')][1]/notRepairedDamage_stats[('price','count')][1]) + (notRepairedDamage_stats[('price','var')][0]/notRepairedDamage_stats[('price','count')][0]))\n",
    "\n",
    "print(f\"Probability of std-normal: {st.norm.sf(abs(z_notRepairedDamage))}\")"
   ]
  },
  {
   "cell_type": "markdown",
   "id": "3e304002",
   "metadata": {},
   "source": [
    "### 7. Vehicle Type and Fuel Type"
   ]
  },
  {
   "cell_type": "code",
   "execution_count": 21,
   "id": "dbf89f3c",
   "metadata": {},
   "outputs": [],
   "source": [
    "df[\"vehicleType\"] = df.vehicleType.fillna(df.vehicleType.value_counts().index[0])"
   ]
  },
  {
   "cell_type": "code",
   "execution_count": 22,
   "id": "ebabf176",
   "metadata": {},
   "outputs": [],
   "source": [
    "df[\"fuelType\"] = df.fuelType.fillna(df.fuelType.value_counts().index[0])"
   ]
  },
  {
   "cell_type": "code",
   "execution_count": 23,
   "id": "95b58622",
   "metadata": {},
   "outputs": [
    {
     "data": {
      "text/html": [
       "<div>\n",
       "<style scoped>\n",
       "    .dataframe tbody tr th:only-of-type {\n",
       "        vertical-align: middle;\n",
       "    }\n",
       "\n",
       "    .dataframe tbody tr th {\n",
       "        vertical-align: top;\n",
       "    }\n",
       "\n",
       "    .dataframe thead th {\n",
       "        text-align: right;\n",
       "    }\n",
       "</style>\n",
       "<table border=\"1\" class=\"dataframe\">\n",
       "  <thead>\n",
       "    <tr style=\"text-align: right;\">\n",
       "      <th></th>\n",
       "      <th>price</th>\n",
       "      <th>vehicleType</th>\n",
       "      <th>yearOfRegistration</th>\n",
       "      <th>gearbox</th>\n",
       "      <th>powerPS</th>\n",
       "      <th>model</th>\n",
       "      <th>kilometer</th>\n",
       "      <th>monthOfRegistration</th>\n",
       "      <th>fuelType</th>\n",
       "      <th>brand</th>\n",
       "      <th>notRepairedDamage</th>\n",
       "      <th>postalCode</th>\n",
       "    </tr>\n",
       "  </thead>\n",
       "  <tbody>\n",
       "    <tr>\n",
       "      <th>5</th>\n",
       "      <td>988</td>\n",
       "      <td>limousine</td>\n",
       "      <td>1995</td>\n",
       "      <td>manual</td>\n",
       "      <td>90</td>\n",
       "      <td>passat</td>\n",
       "      <td>150000</td>\n",
       "      <td>2</td>\n",
       "      <td>petrol</td>\n",
       "      <td>0</td>\n",
       "      <td>0.0</td>\n",
       "      <td>26826</td>\n",
       "    </tr>\n",
       "    <tr>\n",
       "      <th>7</th>\n",
       "      <td>1399</td>\n",
       "      <td>coupe</td>\n",
       "      <td>1997</td>\n",
       "      <td>manual</td>\n",
       "      <td>136</td>\n",
       "      <td>clk</td>\n",
       "      <td>150000</td>\n",
       "      <td>11</td>\n",
       "      <td>petrol</td>\n",
       "      <td>3</td>\n",
       "      <td>0.0</td>\n",
       "      <td>13353</td>\n",
       "    </tr>\n",
       "    <tr>\n",
       "      <th>8</th>\n",
       "      <td>4680</td>\n",
       "      <td>station wagon</td>\n",
       "      <td>2005</td>\n",
       "      <td>manual</td>\n",
       "      <td>122</td>\n",
       "      <td>vectra</td>\n",
       "      <td>150000</td>\n",
       "      <td>12</td>\n",
       "      <td>petrol</td>\n",
       "      <td>2</td>\n",
       "      <td>0.0</td>\n",
       "      <td>28307</td>\n",
       "    </tr>\n",
       "    <tr>\n",
       "      <th>10</th>\n",
       "      <td>1870</td>\n",
       "      <td>limousine</td>\n",
       "      <td>2001</td>\n",
       "      <td>manual</td>\n",
       "      <td>82</td>\n",
       "      <td>a_klasse</td>\n",
       "      <td>150000</td>\n",
       "      <td>1</td>\n",
       "      <td>petrol</td>\n",
       "      <td>3</td>\n",
       "      <td>0.0</td>\n",
       "      <td>26835</td>\n",
       "    </tr>\n",
       "    <tr>\n",
       "      <th>11</th>\n",
       "      <td>2500</td>\n",
       "      <td>coupe</td>\n",
       "      <td>2001</td>\n",
       "      <td>manual</td>\n",
       "      <td>105</td>\n",
       "      <td>astra</td>\n",
       "      <td>125000</td>\n",
       "      <td>4</td>\n",
       "      <td>petrol</td>\n",
       "      <td>2</td>\n",
       "      <td>0.0</td>\n",
       "      <td>31174</td>\n",
       "    </tr>\n",
       "  </tbody>\n",
       "</table>\n",
       "</div>"
      ],
      "text/plain": [
       "    price    vehicleType  yearOfRegistration gearbox  powerPS     model  \\\n",
       "5     988      limousine                1995  manual       90    passat   \n",
       "7    1399          coupe                1997  manual      136       clk   \n",
       "8    4680  station wagon                2005  manual      122    vectra   \n",
       "10   1870      limousine                2001  manual       82  a_klasse   \n",
       "11   2500          coupe                2001  manual      105     astra   \n",
       "\n",
       "    kilometer  monthOfRegistration fuelType  brand  notRepairedDamage  \\\n",
       "5      150000                    2   petrol      0                0.0   \n",
       "7      150000                   11   petrol      3                0.0   \n",
       "8      150000                   12   petrol      2                0.0   \n",
       "10     150000                    1   petrol      3                0.0   \n",
       "11     125000                    4   petrol      2                0.0   \n",
       "\n",
       "    postalCode  \n",
       "5        26826  \n",
       "7        13353  \n",
       "8        28307  \n",
       "10       26835  \n",
       "11       31174  "
      ]
     },
     "execution_count": 23,
     "metadata": {},
     "output_type": "execute_result"
    }
   ],
   "source": [
    "cols = ['dateCrawled', 'name', 'dateCreated', 'lastSeen']\n",
    "df.drop(columns=cols, inplace=True)\n",
    "df.head()"
   ]
  },
  {
   "cell_type": "markdown",
   "id": "b87b3b8c",
   "metadata": {},
   "source": [
    "# Q3. Final Correlation and Transformation"
   ]
  },
  {
   "cell_type": "code",
   "execution_count": 24,
   "id": "62377d60",
   "metadata": {},
   "outputs": [
    {
     "data": {
      "text/plain": [
       "<AxesSubplot:>"
      ]
     },
     "execution_count": 24,
     "metadata": {},
     "output_type": "execute_result"
    },
    {
     "data": {
      "image/png": "[encoded data removed]",
      "text/plain": [
       "<Figure size 720x720 with 2 Axes>"
      ]
     },
     "metadata": {},
     "output_type": "display_data"
    }
   ],
   "source": [
    "plt.figure(figsize=(10,10))\n",
    "\n",
    "sns.heatmap(df.corr(),cmap = 'viridis',annot=True)"
   ]
  },
  {
   "cell_type": "code",
   "execution_count": 25,
   "id": "48df3d3d",
   "metadata": {},
   "outputs": [],
   "source": [
    "model_input_df = pd.concat([df.drop([\"fuelType\", \"vehicleType\", \"gearbox\", \"model\"], axis=1), \n",
    "                            pd.get_dummies(df.fuelType, prefix=\"fuelType\"),\n",
    "                            pd.get_dummies(df.vehicleType, prefix=\"vehicleType\"), \n",
    "                            pd.get_dummies(df.fuelType, prefix=\"model\")], axis=1) \n",
    "model_input_df = model_input_df[model_input_df[\"price\"]>0]"
   ]
  },
  {
   "cell_type": "markdown",
   "id": "8a3baf6c",
   "metadata": {},
   "source": [
    "# Q4. Training Model"
   ]
  },
  {
   "cell_type": "code",
   "execution_count": 26,
   "id": "b3b62b21",
   "metadata": {},
   "outputs": [],
   "source": [
    "from sklearn.model_selection import train_test_split\n",
    "from sklearn.linear_model import Ridge,LinearRegression\n",
    "from sklearn.ensemble import RandomForestRegressor\n",
    "from sklearn.preprocessing import StandardScaler\n",
    "from sklearn.metrics import r2_score,mean_squared_error"
   ]
  },
  {
   "cell_type": "code",
   "execution_count": 27,
   "id": "ece126fe",
   "metadata": {},
   "outputs": [],
   "source": [
    "train_X, test_x, train_y, test_y = train_test_split(model_input_df.drop(\"price\", axis=1).to_numpy(), np.log(model_input_df.price.to_numpy()), test_size=0.3, random_state=42)"
   ]
  },
  {
   "cell_type": "code",
   "execution_count": 28,
   "id": "7aa44bf5",
   "metadata": {},
   "outputs": [],
   "source": [
    "sc = StandardScaler()\n",
    "train_X = sc.fit_transform(train_X) \n",
    "test_x  = sc.fit_transform (test_x)"
   ]
  },
  {
   "cell_type": "code",
   "execution_count": 29,
   "id": "10cf1130",
   "metadata": {},
   "outputs": [
    {
     "name": "stdout",
     "output_type": "stream",
     "text": [
      "R2 score of train = 0.49\n",
      "R2 score of test  = 0.53\n",
      "rmse = 0.73\n"
     ]
    }
   ],
   "source": [
    "regressor= Ridge(alpha=0.5)\n",
    "regressor.fit(train_X,train_y)\n",
    "preds= regressor.predict(test_x)\n",
    "print(\"R2 score of train =\", round(regressor.score(train_X, train_y), 2))\n",
    "print(\"R2 score of test  =\", round(regressor.score(test_x, test_y), 2))\n",
    "print(\"rmse =\", round(mean_squared_error(test_y,preds),2))"
   ]
  }
 ],
 "metadata": {
  "kernelspec": {
   "display_name": "Python 3 (ipykernel)",
   "language": "python",
   "name": "python3"
  },
  "language_info": {
   "codemirror_mode": {
    "name": "ipython",
    "version": 3
   },
   "file_extension": ".py",
   "mimetype": "text/x-python",
   "name": "python",
   "nbconvert_exporter": "python",
   "pygments_lexer": "ipython3",
   "version": "3.9.7"
  }
 },
 "nbformat": 4,
 "nbformat_minor": 5
}
