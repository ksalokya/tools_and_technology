{
 "cells": [
  {
   "cell_type": "code",
   "execution_count": 1,
   "id": "9c826eec",
   "metadata": {},
   "outputs": [],
   "source": [
    "import pandas as pd\n",
    "import matplotlib.pyplot as plt"
   ]
  },
  {
   "cell_type": "markdown",
   "id": "b24c7961",
   "metadata": {},
   "source": [
    "### 1 - Create a copy of the ‘data.csv’ and name the data frame as dataset1"
   ]
  },
  {
   "cell_type": "code",
   "execution_count": 2,
   "id": "df48a6ea",
   "metadata": {},
   "outputs": [
    {
     "data": {
      "text/html": [
       "<div>\n",
       "<style scoped>\n",
       "    .dataframe tbody tr th:only-of-type {\n",
       "        vertical-align: middle;\n",
       "    }\n",
       "\n",
       "    .dataframe tbody tr th {\n",
       "        vertical-align: top;\n",
       "    }\n",
       "\n",
       "    .dataframe thead th {\n",
       "        text-align: right;\n",
       "    }\n",
       "</style>\n",
       "<table border=\"1\" class=\"dataframe\">\n",
       "  <thead>\n",
       "    <tr style=\"text-align: right;\">\n",
       "      <th></th>\n",
       "      <th>Country</th>\n",
       "      <th>Age</th>\n",
       "      <th>Salary</th>\n",
       "      <th>Purchased</th>\n",
       "    </tr>\n",
       "  </thead>\n",
       "  <tbody>\n",
       "    <tr>\n",
       "      <th>0</th>\n",
       "      <td>France</td>\n",
       "      <td>44.0</td>\n",
       "      <td>72000.0</td>\n",
       "      <td>No</td>\n",
       "    </tr>\n",
       "    <tr>\n",
       "      <th>1</th>\n",
       "      <td>Spain</td>\n",
       "      <td>27.0</td>\n",
       "      <td>48000.0</td>\n",
       "      <td>Yes</td>\n",
       "    </tr>\n",
       "    <tr>\n",
       "      <th>2</th>\n",
       "      <td>Germany</td>\n",
       "      <td>30.0</td>\n",
       "      <td>NaN</td>\n",
       "      <td>No</td>\n",
       "    </tr>\n",
       "    <tr>\n",
       "      <th>3</th>\n",
       "      <td>Spain</td>\n",
       "      <td>38.0</td>\n",
       "      <td>61000.0</td>\n",
       "      <td>No</td>\n",
       "    </tr>\n",
       "    <tr>\n",
       "      <th>4</th>\n",
       "      <td>Germany</td>\n",
       "      <td>40.0</td>\n",
       "      <td>70000.0</td>\n",
       "      <td>Yes</td>\n",
       "    </tr>\n",
       "    <tr>\n",
       "      <th>5</th>\n",
       "      <td>France</td>\n",
       "      <td>35.0</td>\n",
       "      <td>58000.0</td>\n",
       "      <td>Yes</td>\n",
       "    </tr>\n",
       "    <tr>\n",
       "      <th>6</th>\n",
       "      <td>Spain</td>\n",
       "      <td>NaN</td>\n",
       "      <td>52000.0</td>\n",
       "      <td>No</td>\n",
       "    </tr>\n",
       "    <tr>\n",
       "      <th>7</th>\n",
       "      <td>France</td>\n",
       "      <td>48.0</td>\n",
       "      <td>79000.0</td>\n",
       "      <td>Yes</td>\n",
       "    </tr>\n",
       "    <tr>\n",
       "      <th>8</th>\n",
       "      <td>Germany</td>\n",
       "      <td>50.0</td>\n",
       "      <td>83000.0</td>\n",
       "      <td>No</td>\n",
       "    </tr>\n",
       "    <tr>\n",
       "      <th>9</th>\n",
       "      <td>NaN</td>\n",
       "      <td>37.0</td>\n",
       "      <td>67000.0</td>\n",
       "      <td>Yes</td>\n",
       "    </tr>\n",
       "  </tbody>\n",
       "</table>\n",
       "</div>"
      ],
      "text/plain": [
       "   Country   Age   Salary Purchased\n",
       "0   France  44.0  72000.0        No\n",
       "1    Spain  27.0  48000.0       Yes\n",
       "2  Germany  30.0      NaN        No\n",
       "3    Spain  38.0  61000.0        No\n",
       "4  Germany  40.0  70000.0       Yes\n",
       "5   France  35.0  58000.0       Yes\n",
       "6    Spain   NaN  52000.0        No\n",
       "7   France  48.0  79000.0       Yes\n",
       "8  Germany  50.0  83000.0        No\n",
       "9      NaN  37.0  67000.0       Yes"
      ]
     },
     "execution_count": 2,
     "metadata": {},
     "output_type": "execute_result"
    }
   ],
   "source": [
    "dataset  = pd.read_csv(\"Data.csv\")\n",
    "dataset1 = dataset.copy(deep=True)\n",
    "dataset"
   ]
  },
  {
   "cell_type": "markdown",
   "id": "3ac6039f",
   "metadata": {},
   "source": [
    "### 2 - To display the count of each value in the county column"
   ]
  },
  {
   "cell_type": "code",
   "execution_count": 3,
   "id": "6f12c9c7",
   "metadata": {},
   "outputs": [
    {
     "data": {
      "text/plain": [
       "France     3\n",
       "Spain      3\n",
       "Germany    3\n",
       "Name: Country, dtype: int64"
      ]
     },
     "execution_count": 3,
     "metadata": {},
     "output_type": "execute_result"
    }
   ],
   "source": [
    "dataset['Country'].value_counts()"
   ]
  },
  {
   "cell_type": "markdown",
   "id": "fa9d2fc3",
   "metadata": {},
   "source": [
    "### 3 - To display how many individuals from each country are buying the product and how many aren’t."
   ]
  },
  {
   "cell_type": "code",
   "execution_count": 4,
   "id": "0acfb145",
   "metadata": {},
   "outputs": [
    {
     "data": {
      "text/html": [
       "<div>\n",
       "<style scoped>\n",
       "    .dataframe tbody tr th:only-of-type {\n",
       "        vertical-align: middle;\n",
       "    }\n",
       "\n",
       "    .dataframe tbody tr th {\n",
       "        vertical-align: top;\n",
       "    }\n",
       "\n",
       "    .dataframe thead th {\n",
       "        text-align: right;\n",
       "    }\n",
       "</style>\n",
       "<table border=\"1\" class=\"dataframe\">\n",
       "  <thead>\n",
       "    <tr style=\"text-align: right;\">\n",
       "      <th>Country</th>\n",
       "      <th>France</th>\n",
       "      <th>Germany</th>\n",
       "      <th>Spain</th>\n",
       "    </tr>\n",
       "    <tr>\n",
       "      <th>Purchased</th>\n",
       "      <th></th>\n",
       "      <th></th>\n",
       "      <th></th>\n",
       "    </tr>\n",
       "  </thead>\n",
       "  <tbody>\n",
       "    <tr>\n",
       "      <th>0</th>\n",
       "      <td>1</td>\n",
       "      <td>2</td>\n",
       "      <td>2</td>\n",
       "    </tr>\n",
       "    <tr>\n",
       "      <th>1</th>\n",
       "      <td>2</td>\n",
       "      <td>1</td>\n",
       "      <td>1</td>\n",
       "    </tr>\n",
       "  </tbody>\n",
       "</table>\n",
       "</div>"
      ],
      "text/plain": [
       "Country    France  Germany  Spain\n",
       "Purchased                        \n",
       "0               1        2      2\n",
       "1               2        1      1"
      ]
     },
     "execution_count": 4,
     "metadata": {},
     "output_type": "execute_result"
    }
   ],
   "source": [
    "dataset['Purchased'] = dataset['Purchased'].map({'Yes': 1, 'No': 0})\n",
    "pd.crosstab(index = dataset['Purchased'],columns = dataset['Country'], dropna = True)"
   ]
  },
  {
   "cell_type": "markdown",
   "id": "8b891393",
   "metadata": {},
   "source": [
    "### 4.\tShow all probabilities of occurance:\n",
    "- Joint\n",
    "- Marginal\n",
    "- Conditional"
   ]
  },
  {
   "cell_type": "markdown",
   "id": "bea01372",
   "metadata": {},
   "source": [
    "### A)\tCountry is known, whether the individual will purchase the product or not."
   ]
  },
  {
   "cell_type": "code",
   "execution_count": 5,
   "id": "9ab86a1d",
   "metadata": {},
   "outputs": [
    {
     "name": "stdout",
     "output_type": "stream",
     "text": [
      "Country      France   Germany     Spain\n",
      "Purchased                              \n",
      "0          0.111111  0.222222  0.222222\n",
      "1          0.222222  0.111111  0.111111 \n",
      "\n",
      "Country      France   Germany     Spain       All\n",
      "Purchased                                        \n",
      "0          0.111111  0.222222  0.222222  0.555556\n",
      "1          0.222222  0.111111  0.111111  0.444444\n",
      "All        0.333333  0.333333  0.333333  1.000000 \n",
      "\n",
      "Country      France   Germany     Spain\n",
      "Purchased                              \n",
      "0          0.200000  0.400000  0.400000\n",
      "1          0.500000  0.250000  0.250000\n",
      "All        0.333333  0.333333  0.333333 \n",
      "\n"
     ]
    }
   ],
   "source": [
    "print(pd.crosstab(index = dataset['Purchased'],columns = dataset['Country'], normalize = True, dropna= True),\"\\n\")\n",
    "print(pd.crosstab(index = dataset['Purchased'],columns = dataset['Country'], margins = True, dropna = True, normalize = True),\"\\n\")\n",
    "print(pd.crosstab(index = dataset['Purchased'],columns = dataset['Country'], margins = True, dropna = True, normalize = 'index'),\"\\n\")"
   ]
  },
  {
   "cell_type": "markdown",
   "id": "d4289d96",
   "metadata": {},
   "source": [
    "### B)\tProduct has been brought/not brought, find the probability the individual belongs to which country."
   ]
  },
  {
   "cell_type": "code",
   "execution_count": 6,
   "id": "180aae40",
   "metadata": {},
   "outputs": [
    {
     "name": "stdout",
     "output_type": "stream",
     "text": [
      "Purchased         0         1\n",
      "Country                      \n",
      "France     0.111111  0.222222\n",
      "Germany    0.222222  0.111111\n",
      "Spain      0.222222  0.111111 \n",
      "\n",
      "Purchased         0         1       All\n",
      "Country                                \n",
      "France     0.111111  0.222222  0.333333\n",
      "Germany    0.222222  0.111111  0.333333\n",
      "Spain      0.222222  0.111111  0.333333\n",
      "All        0.555556  0.444444  1.000000 \n",
      "\n",
      "Purchased         0         1\n",
      "Country                      \n",
      "France     0.333333  0.666667\n",
      "Germany    0.666667  0.333333\n",
      "Spain      0.666667  0.333333\n",
      "All        0.555556  0.444444 \n",
      "\n"
     ]
    }
   ],
   "source": [
    "print(pd.crosstab(index = dataset['Country'],columns = dataset['Purchased'], normalize = True, dropna= True),\"\\n\")\n",
    "print(pd.crosstab(index = dataset['Country'],columns = dataset['Purchased'], margins = True, dropna = True, normalize = True),\"\\n\")\n",
    "print(pd.crosstab(index = dataset['Country'],columns = dataset['Purchased'], margins = True, dropna = True, normalize = 'index'),\"\\n\")"
   ]
  },
  {
   "cell_type": "markdown",
   "id": "dc6a8e44",
   "metadata": {},
   "source": [
    "### 5.\tFind out whether there is a correlation between numerical data(variables) in the dataset.\n"
   ]
  },
  {
   "cell_type": "code",
   "execution_count": 7,
   "id": "16ad31c9",
   "metadata": {},
   "outputs": [
    {
     "data": {
      "text/html": [
       "<div>\n",
       "<style scoped>\n",
       "    .dataframe tbody tr th:only-of-type {\n",
       "        vertical-align: middle;\n",
       "    }\n",
       "\n",
       "    .dataframe tbody tr th {\n",
       "        vertical-align: top;\n",
       "    }\n",
       "\n",
       "    .dataframe thead th {\n",
       "        text-align: right;\n",
       "    }\n",
       "</style>\n",
       "<table border=\"1\" class=\"dataframe\">\n",
       "  <thead>\n",
       "    <tr style=\"text-align: right;\">\n",
       "      <th></th>\n",
       "      <th>Age</th>\n",
       "      <th>Salary</th>\n",
       "      <th>Purchased</th>\n",
       "    </tr>\n",
       "  </thead>\n",
       "  <tbody>\n",
       "    <tr>\n",
       "      <th>Age</th>\n",
       "      <td>1.000000</td>\n",
       "      <td>0.977128</td>\n",
       "      <td>-0.212359</td>\n",
       "    </tr>\n",
       "    <tr>\n",
       "      <th>Salary</th>\n",
       "      <td>0.977128</td>\n",
       "      <td>1.000000</td>\n",
       "      <td>-0.115905</td>\n",
       "    </tr>\n",
       "    <tr>\n",
       "      <th>Purchased</th>\n",
       "      <td>-0.212359</td>\n",
       "      <td>-0.115905</td>\n",
       "      <td>1.000000</td>\n",
       "    </tr>\n",
       "  </tbody>\n",
       "</table>\n",
       "</div>"
      ],
      "text/plain": [
       "                Age    Salary  Purchased\n",
       "Age        1.000000  0.977128  -0.212359\n",
       "Salary     0.977128  1.000000  -0.115905\n",
       "Purchased -0.212359 -0.115905   1.000000"
      ]
     },
     "execution_count": 7,
     "metadata": {},
     "output_type": "execute_result"
    }
   ],
   "source": [
    "numerical_data = dataset.select_dtypes(exclude=[object])\n",
    "corr_matrix = numerical_data.corr()\n",
    "corr_matrix"
   ]
  },
  {
   "cell_type": "markdown",
   "id": "3de029f9",
   "metadata": {},
   "source": [
    "### 6.\tUse scatter plot and plot the data given in ‘social_network_ad.csv’.Keep ‘age’ in x-axis and ‘estimated salary’ in y-axis."
   ]
  },
  {
   "cell_type": "code",
   "execution_count": 8,
   "id": "ac1580fb",
   "metadata": {},
   "outputs": [
    {
     "data": {
      "image/png": "[encoded data removed]",
      "text/plain": [
       "<Figure size 432x288 with 1 Axes>"
      ]
     },
     "metadata": {
      "needs_background": "light"
     },
     "output_type": "display_data"
    }
   ],
   "source": [
    "social_data=pd.read_csv(\"social.csv\")\n",
    "plt.scatter(social_data['Age'], social_data['EstimatedSalary'], c='red')\n",
    "plt. title('Scatter plot of Price vs Estimated Salary')\n",
    "plt.xlabel('Age (months)')\n",
    "plt.ylabel('Estimated Salary (Euros)')\n",
    "plt. show()"
   ]
  }
 ],
 "metadata": {
  "kernelspec": {
   "display_name": "Python 3 (ipykernel)",
   "language": "python",
   "name": "python3"
  },
  "language_info": {
   "codemirror_mode": {
    "name": "ipython",
    "version": 3
   },
   "file_extension": ".py",
   "mimetype": "text/x-python",
   "name": "python",
   "nbconvert_exporter": "python",
   "pygments_lexer": "ipython3",
   "version": "3.9.7"
  }
 },
 "nbformat": 4,
 "nbformat_minor": 5
}
