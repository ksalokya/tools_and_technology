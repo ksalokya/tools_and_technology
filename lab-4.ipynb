{
 "cells": [
  {
   "cell_type": "markdown",
   "id": "f887355a",
   "metadata": {},
   "source": [
    "### Q1.A spehere has radius equal to 6, calculate its the volume . An approximate value would do"
   ]
  },
  {
   "cell_type": "code",
   "execution_count": 1,
   "id": "23549728",
   "metadata": {},
   "outputs": [
    {
     "name": "stdout",
     "output_type": "stream",
     "text": [
      "Volume of the sphere is: 904.78 units.\n"
     ]
    }
   ],
   "source": [
    "pi = 3.14159\n",
    "r= 6.0\n",
    "V= 4.0/3.0*pi* r**3\n",
    "print(\"Volume of the sphere is: %.2f\"%V+\" units.\")"
   ]
  },
  {
   "cell_type": "markdown",
   "id": "9c1e72d4",
   "metadata": {},
   "source": [
    "### Q2. The marks obtained by a student in Physics, Chemistry,English and Maths are 92, 72, 83, and 65 respectively. Add 5 marks to science subjects and find the average marks obtained by him. Calculate the grade using if else statement."
   ]
  },
  {
   "cell_type": "code",
   "execution_count": 2,
   "id": "e7ea9db3",
   "metadata": {},
   "outputs": [
    {
     "name": "stdout",
     "output_type": "stream",
     "text": [
      "Average Marks :  80.5\n",
      "Your Grade is A\n"
     ]
    }
   ],
   "source": [
    "phy=92\n",
    "chem=72\n",
    "eng = 83\n",
    "mat = 65\n",
    "phy += 5\n",
    "chem += 5\n",
    "avg = (phy+chem+eng+mat)/4\n",
    "print(\"Average Marks : \",avg)\n",
    "\n",
    "if avg>=91 and avg<=100:\n",
    " print(\"Your Grade is O\")\n",
    "elif avg>=81 and avg<91:\n",
    " print(\"Your Grade is E\")\n",
    "elif avg>=71 and avg<81:\n",
    " print(\"Your Grade is A\")\n",
    "else:\n",
    " print(\"Invalid Input!\")"
   ]
  },
  {
   "cell_type": "markdown",
   "id": "cb6860df",
   "metadata": {},
   "source": [
    "### Q3.A)Write a program which uses a person_age to print number of years left for retirement (a person retires at 65). You can ask the age from the user as well age = input(\"How old are you?\")."
   ]
  },
  {
   "cell_type": "code",
   "execution_count": 3,
   "id": "29d6af5b",
   "metadata": {},
   "outputs": [
    {
     "name": "stdout",
     "output_type": "stream",
     "text": [
      "How old are you? 45\n",
      "Years left till retirement :  20\n"
     ]
    }
   ],
   "source": [
    "age = int(input(\"How old are you? \"))\n",
    "retire = 65 - age\n",
    "print(\"Years left till retirement : \",retire)"
   ]
  },
  {
   "cell_type": "markdown",
   "id": "bb1f407d",
   "metadata": {},
   "source": [
    "### Q4. A student campus has got 3 divisions of girls and 5 divisions of boys. Write a program which asks the user to input number of boys and girls in each division using for loop.\n",
    "- It should print\n",
    "- number of girls,\n",
    "- number of boys\n",
    "- total number of students.\n",
    "  - Sections:3 for girls A,B,C  \n",
    "  - Section :5 for boys A,B,C,D,E"
   ]
  },
  {
   "cell_type": "code",
   "execution_count": 4,
   "id": "b6fee044",
   "metadata": {},
   "outputs": [
    {
     "name": "stdout",
     "output_type": "stream",
     "text": [
      "Enter total girls in division  A\n",
      "1\n",
      "Enter total girls in division  B\n",
      "2\n",
      "Enter total girls in division  C\n",
      "3\n",
      "Enter total boys in division  A\n",
      "1\n",
      "Enter total boys in division  B\n",
      "2\n",
      "Enter total boys in division  C\n",
      "3\n",
      "Enter total boys in division  D\n",
      "4\n",
      "Enter total boys in division  E\n",
      "5\n",
      "Number of girls :  6\n",
      "Number of boys :  15\n",
      "Total number of students :  21\n"
     ]
    }
   ],
   "source": [
    "dg = ('A','B','C')\n",
    "db = ('A','B','C','D','E')\n",
    "total_girls = 0\n",
    "for i in dg:\n",
    " print(\"Enter total girls in division \",i)\n",
    " temp = int(input())\n",
    " total_girls += temp\n",
    "total_boys = 0\n",
    "for i in db:\n",
    " print(\"Enter total boys in division \",i)\n",
    " temp = int(input())\n",
    " total_boys += temp\n",
    "\n",
    "print(\"Number of girls : \",total_girls)\n",
    "print(\"Number of boys : \",total_boys)\n",
    "print(\"Total number of students : \",total_girls+total_boys)"
   ]
  },
  {
   "cell_type": "markdown",
   "id": "6b2836e0",
   "metadata": {},
   "source": [
    "### Q5. Write a Python program that prompts the user for his/her amount of money,then reports how many jean pants the person can afford, and how much more money he/she will need to afford an additional jean pant (cost of jean pant = need to afford an additional jean pant. (cost of jean pant = 750)"
   ]
  },
  {
   "cell_type": "code",
   "execution_count": 5,
   "id": "79eb3d1c",
   "metadata": {},
   "outputs": [
    {
     "name": "stdout",
     "output_type": "stream",
     "text": [
      "Enter total amount : 1000\n",
      "Jean pants the person can afford :  1\n",
      "Money needed to afford an additional jean pant :  500\n"
     ]
    }
   ],
   "source": [
    "amt = int(input(\"Enter total amount : \"))\n",
    "print(\"Jean pants the person can afford : \",amt//750)\n",
    "print(\"Money needed to afford an additional jean pant : \",(750 - (amt - 750*(amt//750))))"
   ]
  },
  {
   "cell_type": "markdown",
   "id": "141bd311",
   "metadata": {},
   "source": [
    "### Q6.a) Write a program which converts 13 hours and 32 minutes into seconds."
   ]
  },
  {
   "cell_type": "code",
   "execution_count": 6,
   "id": "e6a23fef",
   "metadata": {},
   "outputs": [
    {
     "name": "stdout",
     "output_type": "stream",
     "text": [
      "Input hours: 13\n",
      "Input minutes: 32\n",
      "The amounts of seconds 48720\n"
     ]
    }
   ],
   "source": [
    "hours = int(input(\"Input hours: \")) * 3600\n",
    "minutes = int(input(\"Input minutes: \")) * 60\n",
    "time = hours + minutes\n",
    "print(\"The amounts of seconds\", time)"
   ]
  },
  {
   "cell_type": "markdown",
   "id": "3341efc3",
   "metadata": {},
   "source": [
    "### B) WAP to convert given second into its equivalent hour, minute and second as per the following format. Ex. 8860 second = 2 Hour, 27 Minute and 40 Second"
   ]
  },
  {
   "cell_type": "code",
   "execution_count": 7,
   "id": "b3f8316c",
   "metadata": {},
   "outputs": [
    {
     "name": "stdout",
     "output_type": "stream",
     "text": [
      "2 Hours, 27 Minutes, 40 Seconds \n"
     ]
    }
   ],
   "source": [
    "seconds = 8860\n",
    "seconds = seconds % (24 * 3600)\n",
    "hour = seconds // 3600\n",
    "seconds %= 3600\n",
    "minutes = seconds // 60\n",
    "seconds %= 60\n",
    "print(str(hour)+\" Hours, \"+str(minutes)+\" Minutes, \"+str(seconds)+\" Seconds \")"
   ]
  },
  {
   "cell_type": "markdown",
   "id": "7a74cae8",
   "metadata": {},
   "source": [
    "### Q7.WAP to find the roots of a quadratic equation ax2 +bx+c=0 using if-else statement."
   ]
  },
  {
   "cell_type": "code",
   "execution_count": 8,
   "id": "15d949b2",
   "metadata": {},
   "outputs": [
    {
     "name": "stdout",
     "output_type": "stream",
     "text": [
      "Enter a:1\n",
      "Enter b:7\n",
      "Enter c:12\n",
      "Roots are : \n",
      "-3.0\n",
      "-4.0\n"
     ]
    }
   ],
   "source": [
    "import math\n",
    "\n",
    "def roots(a, b, c):\n",
    "    dis_form = b * b - 4 * a * c\n",
    "    sqrt_val = math.sqrt(abs(dis_form))\n",
    "\n",
    "    if dis_form > 0:\n",
    "        print((-b + sqrt_val) / (2 * a))\n",
    "        print((-b - sqrt_val) / (2 * a))\n",
    "\n",
    "    elif dis_form == 0:\n",
    "        print(-b / (2 * a))\n",
    "\n",
    "    else:\n",
    "        print(- b / (2 * a), \" + i\", sqrt_val)\n",
    "        print(- b / (2 * a), \" - i\", sqrt_val)\n",
    "\n",
    "\n",
    "a = int(input('Enter a:'))\n",
    "b = int(input('Enter b:'))\n",
    "c = int(input('Enter c:'))\n",
    "\n",
    "print(\"Roots are : \")\n",
    "roots(a, b, c)"
   ]
  },
  {
   "cell_type": "markdown",
   "id": "4ff0738c",
   "metadata": {},
   "source": [
    "### Q8.WAP to check whether a number n is prime number or not."
   ]
  },
  {
   "cell_type": "code",
   "execution_count": 9,
   "id": "135d7e88",
   "metadata": {},
   "outputs": [
    {
     "name": "stdout",
     "output_type": "stream",
     "text": [
      "11 is a prime\n"
     ]
    }
   ],
   "source": [
    "num = 11\n",
    "flag = False\n",
    "\n",
    "if num > 1:\n",
    "    for i in range(2, num):\n",
    "        if (num % i) == 0:\n",
    "            flag = True\n",
    "            break\n",
    "            \n",
    "if flag:\n",
    "    print(num, \"is not a prime\")\n",
    "else:\n",
    "    print(num, \"is a prime\")"
   ]
  },
  {
   "cell_type": "markdown",
   "id": "571aa168",
   "metadata": {},
   "source": [
    "### Q9.WAP to find the first n numbers of a Fibonacci sequence"
   ]
  },
  {
   "cell_type": "code",
   "execution_count": 10,
   "id": "3de52345",
   "metadata": {},
   "outputs": [
    {
     "name": "stdout",
     "output_type": "stream",
     "text": [
      "Fibonacci sequence: 0 1 1 2 3 5 8 13 21 "
     ]
    }
   ],
   "source": [
    "range = 9\n",
    "\n",
    "n1, n2 = 0, 1\n",
    "count = 0\n",
    "\n",
    "print(\"Fibonacci sequence:\",end=\" \")\n",
    "while count < range:\n",
    "    print(n1,end=\" \")\n",
    "    nth = n1 + n2\n",
    "    n1 = n2\n",
    "    n2 = nth\n",
    "    count += 1"
   ]
  },
  {
   "cell_type": "markdown",
   "id": "ea44d9db",
   "metadata": {},
   "source": [
    "### Q.10.WAP to calculate the factorial of a given number"
   ]
  },
  {
   "cell_type": "code",
   "execution_count": 11,
   "id": "d5d7e196",
   "metadata": {},
   "outputs": [
    {
     "name": "stdout",
     "output_type": "stream",
     "text": [
      "Factorial of 5 is 120\n"
     ]
    }
   ],
   "source": [
    "x = 5\n",
    "fact = 1\n",
    "\n",
    "for i in range(1,x+1):\n",
    "    fact = fact*i\n",
    "        \n",
    "print(\"Factorial of\",x,\"is\",fact)"
   ]
  }
 ],
 "metadata": {
  "kernelspec": {
   "display_name": "Python 3 (ipykernel)",
   "language": "python",
   "name": "python3"
  },
  "language_info": {
   "codemirror_mode": {
    "name": "ipython",
    "version": 3
   },
   "file_extension": ".py",
   "mimetype": "text/x-python",
   "name": "python",
   "nbconvert_exporter": "python",
   "pygments_lexer": "ipython3",
   "version": "3.9.7"
  }
 },
 "nbformat": 4,
 "nbformat_minor": 5
}
