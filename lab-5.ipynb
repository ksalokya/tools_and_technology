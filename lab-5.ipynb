{
 "cells": [
  {
   "cell_type": "code",
   "execution_count": 1,
   "id": "50e174d3",
   "metadata": {},
   "outputs": [],
   "source": [
    "import pandas as pd \n",
    "import numpy as np \n",
    "import seaborn as sns \n",
    "import matplotlib.pyplot as plt \n",
    "\n",
    "from sklearn.model_selection import train_test_split \n",
    "from sklearn.preprocessing import StandardScaler \n",
    "from sklearn.preprocessing import LabelEncoder,OneHotEncoder \n",
    "from sklearn.metrics import accuracy_score, precision_score, f1_score, confusion_matrix, recall_score \n",
    "\n",
    "from sklearn.linear_model import LogisticRegression \n",
    "from sklearn.neighbors import KNeighborsClassifier \n",
    "from sklearn.tree import DecisionTreeClassifier \n",
    "from sklearn.ensemble import RandomForestClassifier\n",
    "from sklearn.naive_bayes import GaussianNB\n",
    "\n",
    "import warnings\n",
    "warnings.filterwarnings('ignore')\n",
    "\n",
    "sns.set(style=\"darkgrid\")\n",
    "%matplotlib inline "
   ]
  },
  {
   "cell_type": "code",
   "execution_count": 2,
   "id": "436be62b",
   "metadata": {},
   "outputs": [
    {
     "data": {
      "text/html": [
       "<div>\n",
       "<style scoped>\n",
       "    .dataframe tbody tr th:only-of-type {\n",
       "        vertical-align: middle;\n",
       "    }\n",
       "\n",
       "    .dataframe tbody tr th {\n",
       "        vertical-align: top;\n",
       "    }\n",
       "\n",
       "    .dataframe thead th {\n",
       "        text-align: right;\n",
       "    }\n",
       "</style>\n",
       "<table border=\"1\" class=\"dataframe\">\n",
       "  <thead>\n",
       "    <tr style=\"text-align: right;\">\n",
       "      <th></th>\n",
       "      <th>age</th>\n",
       "      <th>JobType</th>\n",
       "      <th>EdType</th>\n",
       "      <th>maritalstatus</th>\n",
       "      <th>occupation</th>\n",
       "      <th>relationship</th>\n",
       "      <th>race</th>\n",
       "      <th>gender</th>\n",
       "      <th>capitalgain</th>\n",
       "      <th>capitalloss</th>\n",
       "      <th>hoursperweek</th>\n",
       "      <th>nativecountry</th>\n",
       "      <th>SalStat</th>\n",
       "    </tr>\n",
       "  </thead>\n",
       "  <tbody>\n",
       "    <tr>\n",
       "      <th>0</th>\n",
       "      <td>45</td>\n",
       "      <td>Private</td>\n",
       "      <td>HS-grad</td>\n",
       "      <td>Divorced</td>\n",
       "      <td>Adm-clerical</td>\n",
       "      <td>Not-in-family</td>\n",
       "      <td>White</td>\n",
       "      <td>Female</td>\n",
       "      <td>0</td>\n",
       "      <td>0</td>\n",
       "      <td>28</td>\n",
       "      <td>United-States</td>\n",
       "      <td>less than or equal to 50,000</td>\n",
       "    </tr>\n",
       "    <tr>\n",
       "      <th>1</th>\n",
       "      <td>24</td>\n",
       "      <td>Federal-gov</td>\n",
       "      <td>HS-grad</td>\n",
       "      <td>Never-married</td>\n",
       "      <td>Armed-Forces</td>\n",
       "      <td>Own-child</td>\n",
       "      <td>White</td>\n",
       "      <td>Male</td>\n",
       "      <td>0</td>\n",
       "      <td>0</td>\n",
       "      <td>40</td>\n",
       "      <td>United-States</td>\n",
       "      <td>less than or equal to 50,000</td>\n",
       "    </tr>\n",
       "    <tr>\n",
       "      <th>2</th>\n",
       "      <td>44</td>\n",
       "      <td>Private</td>\n",
       "      <td>Some-college</td>\n",
       "      <td>Married-civ-spouse</td>\n",
       "      <td>Prof-specialty</td>\n",
       "      <td>Husband</td>\n",
       "      <td>White</td>\n",
       "      <td>Male</td>\n",
       "      <td>0</td>\n",
       "      <td>0</td>\n",
       "      <td>40</td>\n",
       "      <td>United-States</td>\n",
       "      <td>greater than 50,000</td>\n",
       "    </tr>\n",
       "    <tr>\n",
       "      <th>3</th>\n",
       "      <td>27</td>\n",
       "      <td>Private</td>\n",
       "      <td>9th</td>\n",
       "      <td>Never-married</td>\n",
       "      <td>Craft-repair</td>\n",
       "      <td>Other-relative</td>\n",
       "      <td>White</td>\n",
       "      <td>Male</td>\n",
       "      <td>0</td>\n",
       "      <td>0</td>\n",
       "      <td>40</td>\n",
       "      <td>Mexico</td>\n",
       "      <td>less than or equal to 50,000</td>\n",
       "    </tr>\n",
       "    <tr>\n",
       "      <th>4</th>\n",
       "      <td>20</td>\n",
       "      <td>Private</td>\n",
       "      <td>Some-college</td>\n",
       "      <td>Never-married</td>\n",
       "      <td>Sales</td>\n",
       "      <td>Not-in-family</td>\n",
       "      <td>White</td>\n",
       "      <td>Male</td>\n",
       "      <td>0</td>\n",
       "      <td>0</td>\n",
       "      <td>35</td>\n",
       "      <td>United-States</td>\n",
       "      <td>less than or equal to 50,000</td>\n",
       "    </tr>\n",
       "    <tr>\n",
       "      <th>...</th>\n",
       "      <td>...</td>\n",
       "      <td>...</td>\n",
       "      <td>...</td>\n",
       "      <td>...</td>\n",
       "      <td>...</td>\n",
       "      <td>...</td>\n",
       "      <td>...</td>\n",
       "      <td>...</td>\n",
       "      <td>...</td>\n",
       "      <td>...</td>\n",
       "      <td>...</td>\n",
       "      <td>...</td>\n",
       "      <td>...</td>\n",
       "    </tr>\n",
       "    <tr>\n",
       "      <th>31973</th>\n",
       "      <td>34</td>\n",
       "      <td>Local-gov</td>\n",
       "      <td>HS-grad</td>\n",
       "      <td>Never-married</td>\n",
       "      <td>Farming-fishing</td>\n",
       "      <td>Not-in-family</td>\n",
       "      <td>Black</td>\n",
       "      <td>Male</td>\n",
       "      <td>594</td>\n",
       "      <td>0</td>\n",
       "      <td>60</td>\n",
       "      <td>United-States</td>\n",
       "      <td>less than or equal to 50,000</td>\n",
       "    </tr>\n",
       "    <tr>\n",
       "      <th>31974</th>\n",
       "      <td>34</td>\n",
       "      <td>Local-gov</td>\n",
       "      <td>Some-college</td>\n",
       "      <td>Never-married</td>\n",
       "      <td>Protective-serv</td>\n",
       "      <td>Not-in-family</td>\n",
       "      <td>White</td>\n",
       "      <td>Female</td>\n",
       "      <td>0</td>\n",
       "      <td>0</td>\n",
       "      <td>40</td>\n",
       "      <td>United-States</td>\n",
       "      <td>less than or equal to 50,000</td>\n",
       "    </tr>\n",
       "    <tr>\n",
       "      <th>31975</th>\n",
       "      <td>23</td>\n",
       "      <td>Private</td>\n",
       "      <td>Some-college</td>\n",
       "      <td>Married-civ-spouse</td>\n",
       "      <td>Adm-clerical</td>\n",
       "      <td>Husband</td>\n",
       "      <td>White</td>\n",
       "      <td>Male</td>\n",
       "      <td>0</td>\n",
       "      <td>0</td>\n",
       "      <td>40</td>\n",
       "      <td>United-States</td>\n",
       "      <td>less than or equal to 50,000</td>\n",
       "    </tr>\n",
       "    <tr>\n",
       "      <th>31976</th>\n",
       "      <td>42</td>\n",
       "      <td>Local-gov</td>\n",
       "      <td>Some-college</td>\n",
       "      <td>Married-civ-spouse</td>\n",
       "      <td>Adm-clerical</td>\n",
       "      <td>Wife</td>\n",
       "      <td>White</td>\n",
       "      <td>Female</td>\n",
       "      <td>0</td>\n",
       "      <td>0</td>\n",
       "      <td>40</td>\n",
       "      <td>United-States</td>\n",
       "      <td>less than or equal to 50,000</td>\n",
       "    </tr>\n",
       "    <tr>\n",
       "      <th>31977</th>\n",
       "      <td>29</td>\n",
       "      <td>Private</td>\n",
       "      <td>Bachelors</td>\n",
       "      <td>Never-married</td>\n",
       "      <td>Prof-specialty</td>\n",
       "      <td>Not-in-family</td>\n",
       "      <td>White</td>\n",
       "      <td>Male</td>\n",
       "      <td>0</td>\n",
       "      <td>0</td>\n",
       "      <td>40</td>\n",
       "      <td>United-States</td>\n",
       "      <td>less than or equal to 50,000</td>\n",
       "    </tr>\n",
       "  </tbody>\n",
       "</table>\n",
       "<p>31978 rows × 13 columns</p>\n",
       "</div>"
      ],
      "text/plain": [
       "       age      JobType        EdType       maritalstatus       occupation  \\\n",
       "0       45      Private       HS-grad            Divorced     Adm-clerical   \n",
       "1       24  Federal-gov       HS-grad       Never-married     Armed-Forces   \n",
       "2       44      Private  Some-college  Married-civ-spouse   Prof-specialty   \n",
       "3       27      Private           9th       Never-married     Craft-repair   \n",
       "4       20      Private  Some-college       Never-married            Sales   \n",
       "...    ...          ...           ...                 ...              ...   \n",
       "31973   34    Local-gov       HS-grad       Never-married  Farming-fishing   \n",
       "31974   34    Local-gov  Some-college       Never-married  Protective-serv   \n",
       "31975   23      Private  Some-college  Married-civ-spouse     Adm-clerical   \n",
       "31976   42    Local-gov  Some-college  Married-civ-spouse     Adm-clerical   \n",
       "31977   29      Private     Bachelors       Never-married   Prof-specialty   \n",
       "\n",
       "         relationship   race  gender  capitalgain  capitalloss  hoursperweek  \\\n",
       "0       Not-in-family  White  Female            0            0            28   \n",
       "1           Own-child  White    Male            0            0            40   \n",
       "2             Husband  White    Male            0            0            40   \n",
       "3      Other-relative  White    Male            0            0            40   \n",
       "4       Not-in-family  White    Male            0            0            35   \n",
       "...               ...    ...     ...          ...          ...           ...   \n",
       "31973   Not-in-family  Black    Male          594            0            60   \n",
       "31974   Not-in-family  White  Female            0            0            40   \n",
       "31975         Husband  White    Male            0            0            40   \n",
       "31976            Wife  White  Female            0            0            40   \n",
       "31977   Not-in-family  White    Male            0            0            40   \n",
       "\n",
       "       nativecountry                        SalStat  \n",
       "0      United-States   less than or equal to 50,000  \n",
       "1      United-States   less than or equal to 50,000  \n",
       "2      United-States            greater than 50,000  \n",
       "3             Mexico   less than or equal to 50,000  \n",
       "4      United-States   less than or equal to 50,000  \n",
       "...              ...                            ...  \n",
       "31973  United-States   less than or equal to 50,000  \n",
       "31974  United-States   less than or equal to 50,000  \n",
       "31975  United-States   less than or equal to 50,000  \n",
       "31976  United-States   less than or equal to 50,000  \n",
       "31977  United-States   less than or equal to 50,000  \n",
       "\n",
       "[31978 rows x 13 columns]"
      ]
     },
     "execution_count": 2,
     "metadata": {},
     "output_type": "execute_result"
    }
   ],
   "source": [
    "income_df_master = pd.read_csv(\"income.csv\", na_values=[\" ?\"])\n",
    "income_df_master"
   ]
  },
  {
   "cell_type": "code",
   "execution_count": 3,
   "id": "335c84a1",
   "metadata": {},
   "outputs": [
    {
     "name": "stdout",
     "output_type": "stream",
     "text": [
      "<class 'pandas.core.frame.DataFrame'>\n",
      "RangeIndex: 31978 entries, 0 to 31977\n",
      "Data columns (total 13 columns):\n",
      " #   Column         Non-Null Count  Dtype \n",
      "---  ------         --------------  ----- \n",
      " 0   age            31978 non-null  int64 \n",
      " 1   JobType        31978 non-null  object\n",
      " 2   EdType         31978 non-null  object\n",
      " 3   maritalstatus  31978 non-null  object\n",
      " 4   occupation     31978 non-null  object\n",
      " 5   relationship   31978 non-null  object\n",
      " 6   race           31978 non-null  object\n",
      " 7   gender         31978 non-null  object\n",
      " 8   capitalgain    31978 non-null  int64 \n",
      " 9   capitalloss    31978 non-null  int64 \n",
      " 10  hoursperweek   31978 non-null  int64 \n",
      " 11  nativecountry  31978 non-null  object\n",
      " 12  SalStat        31978 non-null  object\n",
      "dtypes: int64(4), object(9)\n",
      "memory usage: 3.2+ MB\n"
     ]
    }
   ],
   "source": [
    "income_df = income_df_master.copy()\n",
    "income_df.info()"
   ]
  },
  {
   "cell_type": "code",
   "execution_count": 4,
   "id": "78aed77a",
   "metadata": {},
   "outputs": [],
   "source": [
    "income_df = income_df.fillna(income_df.mode().iloc[0])\n",
    "income_df.SalStat = income_df.SalStat.apply(lambda x: 0 if x == ' less than or equal to 50,000' else 1)"
   ]
  },
  {
   "cell_type": "code",
   "execution_count": 5,
   "id": "8f6e677c",
   "metadata": {},
   "outputs": [
    {
     "data": {
      "text/html": [
       "<div>\n",
       "<style scoped>\n",
       "    .dataframe tbody tr th:only-of-type {\n",
       "        vertical-align: middle;\n",
       "    }\n",
       "\n",
       "    .dataframe tbody tr th {\n",
       "        vertical-align: top;\n",
       "    }\n",
       "\n",
       "    .dataframe thead th {\n",
       "        text-align: right;\n",
       "    }\n",
       "</style>\n",
       "<table border=\"1\" class=\"dataframe\">\n",
       "  <thead>\n",
       "    <tr style=\"text-align: right;\">\n",
       "      <th></th>\n",
       "      <th>age</th>\n",
       "      <th>capitalgain</th>\n",
       "      <th>capitalloss</th>\n",
       "      <th>hoursperweek</th>\n",
       "      <th>SalStat</th>\n",
       "    </tr>\n",
       "  </thead>\n",
       "  <tbody>\n",
       "    <tr>\n",
       "      <th>count</th>\n",
       "      <td>31978.000000</td>\n",
       "      <td>31978.000000</td>\n",
       "      <td>31978.000000</td>\n",
       "      <td>31978.000000</td>\n",
       "      <td>31978.000000</td>\n",
       "    </tr>\n",
       "    <tr>\n",
       "      <th>mean</th>\n",
       "      <td>38.579023</td>\n",
       "      <td>1064.360623</td>\n",
       "      <td>86.739352</td>\n",
       "      <td>40.417850</td>\n",
       "      <td>0.240634</td>\n",
       "    </tr>\n",
       "    <tr>\n",
       "      <th>std</th>\n",
       "      <td>13.662085</td>\n",
       "      <td>7298.596271</td>\n",
       "      <td>401.594301</td>\n",
       "      <td>12.345285</td>\n",
       "      <td>0.427475</td>\n",
       "    </tr>\n",
       "    <tr>\n",
       "      <th>min</th>\n",
       "      <td>17.000000</td>\n",
       "      <td>0.000000</td>\n",
       "      <td>0.000000</td>\n",
       "      <td>1.000000</td>\n",
       "      <td>0.000000</td>\n",
       "    </tr>\n",
       "    <tr>\n",
       "      <th>25%</th>\n",
       "      <td>28.000000</td>\n",
       "      <td>0.000000</td>\n",
       "      <td>0.000000</td>\n",
       "      <td>40.000000</td>\n",
       "      <td>0.000000</td>\n",
       "    </tr>\n",
       "    <tr>\n",
       "      <th>50%</th>\n",
       "      <td>37.000000</td>\n",
       "      <td>0.000000</td>\n",
       "      <td>0.000000</td>\n",
       "      <td>40.000000</td>\n",
       "      <td>0.000000</td>\n",
       "    </tr>\n",
       "    <tr>\n",
       "      <th>75%</th>\n",
       "      <td>48.000000</td>\n",
       "      <td>0.000000</td>\n",
       "      <td>0.000000</td>\n",
       "      <td>45.000000</td>\n",
       "      <td>0.000000</td>\n",
       "    </tr>\n",
       "    <tr>\n",
       "      <th>max</th>\n",
       "      <td>90.000000</td>\n",
       "      <td>99999.000000</td>\n",
       "      <td>4356.000000</td>\n",
       "      <td>99.000000</td>\n",
       "      <td>1.000000</td>\n",
       "    </tr>\n",
       "  </tbody>\n",
       "</table>\n",
       "</div>"
      ],
      "text/plain": [
       "                age   capitalgain   capitalloss  hoursperweek       SalStat\n",
       "count  31978.000000  31978.000000  31978.000000  31978.000000  31978.000000\n",
       "mean      38.579023   1064.360623     86.739352     40.417850      0.240634\n",
       "std       13.662085   7298.596271    401.594301     12.345285      0.427475\n",
       "min       17.000000      0.000000      0.000000      1.000000      0.000000\n",
       "25%       28.000000      0.000000      0.000000     40.000000      0.000000\n",
       "50%       37.000000      0.000000      0.000000     40.000000      0.000000\n",
       "75%       48.000000      0.000000      0.000000     45.000000      0.000000\n",
       "max       90.000000  99999.000000   4356.000000     99.000000      1.000000"
      ]
     },
     "execution_count": 5,
     "metadata": {},
     "output_type": "execute_result"
    }
   ],
   "source": [
    "income_df.describe()"
   ]
  },
  {
   "cell_type": "code",
   "execution_count": 6,
   "id": "2aff2109",
   "metadata": {},
   "outputs": [
    {
     "data": {
      "text/html": [
       "<div>\n",
       "<style scoped>\n",
       "    .dataframe tbody tr th:only-of-type {\n",
       "        vertical-align: middle;\n",
       "    }\n",
       "\n",
       "    .dataframe tbody tr th {\n",
       "        vertical-align: top;\n",
       "    }\n",
       "\n",
       "    .dataframe thead th {\n",
       "        text-align: right;\n",
       "    }\n",
       "</style>\n",
       "<table border=\"1\" class=\"dataframe\">\n",
       "  <thead>\n",
       "    <tr style=\"text-align: right;\">\n",
       "      <th></th>\n",
       "      <th>age</th>\n",
       "      <th>JobType</th>\n",
       "      <th>EdType</th>\n",
       "      <th>maritalstatus</th>\n",
       "      <th>occupation</th>\n",
       "      <th>race</th>\n",
       "      <th>gender</th>\n",
       "      <th>hoursperweek</th>\n",
       "      <th>nativecountry</th>\n",
       "    </tr>\n",
       "  </thead>\n",
       "  <tbody>\n",
       "    <tr>\n",
       "      <th>0</th>\n",
       "      <td>45</td>\n",
       "      <td>Private</td>\n",
       "      <td>HS-grad</td>\n",
       "      <td>Divorced</td>\n",
       "      <td>Adm-clerical</td>\n",
       "      <td>White</td>\n",
       "      <td>Female</td>\n",
       "      <td>28</td>\n",
       "      <td>United-States</td>\n",
       "    </tr>\n",
       "    <tr>\n",
       "      <th>1</th>\n",
       "      <td>24</td>\n",
       "      <td>Federal-gov</td>\n",
       "      <td>HS-grad</td>\n",
       "      <td>Never-married</td>\n",
       "      <td>Armed-Forces</td>\n",
       "      <td>White</td>\n",
       "      <td>Male</td>\n",
       "      <td>40</td>\n",
       "      <td>United-States</td>\n",
       "    </tr>\n",
       "    <tr>\n",
       "      <th>2</th>\n",
       "      <td>44</td>\n",
       "      <td>Private</td>\n",
       "      <td>Some-college</td>\n",
       "      <td>Married-civ-spouse</td>\n",
       "      <td>Prof-specialty</td>\n",
       "      <td>White</td>\n",
       "      <td>Male</td>\n",
       "      <td>40</td>\n",
       "      <td>United-States</td>\n",
       "    </tr>\n",
       "    <tr>\n",
       "      <th>3</th>\n",
       "      <td>27</td>\n",
       "      <td>Private</td>\n",
       "      <td>9th</td>\n",
       "      <td>Never-married</td>\n",
       "      <td>Craft-repair</td>\n",
       "      <td>White</td>\n",
       "      <td>Male</td>\n",
       "      <td>40</td>\n",
       "      <td>Mexico</td>\n",
       "    </tr>\n",
       "    <tr>\n",
       "      <th>4</th>\n",
       "      <td>20</td>\n",
       "      <td>Private</td>\n",
       "      <td>Some-college</td>\n",
       "      <td>Never-married</td>\n",
       "      <td>Sales</td>\n",
       "      <td>White</td>\n",
       "      <td>Male</td>\n",
       "      <td>35</td>\n",
       "      <td>United-States</td>\n",
       "    </tr>\n",
       "  </tbody>\n",
       "</table>\n",
       "</div>"
      ],
      "text/plain": [
       "   age      JobType        EdType       maritalstatus      occupation   race  \\\n",
       "0   45      Private       HS-grad            Divorced    Adm-clerical  White   \n",
       "1   24  Federal-gov       HS-grad       Never-married    Armed-Forces  White   \n",
       "2   44      Private  Some-college  Married-civ-spouse  Prof-specialty  White   \n",
       "3   27      Private           9th       Never-married    Craft-repair  White   \n",
       "4   20      Private  Some-college       Never-married           Sales  White   \n",
       "\n",
       "   gender  hoursperweek  nativecountry  \n",
       "0  Female            28  United-States  \n",
       "1    Male            40  United-States  \n",
       "2    Male            40  United-States  \n",
       "3    Male            40         Mexico  \n",
       "4    Male            35  United-States  "
      ]
     },
     "execution_count": 6,
     "metadata": {},
     "output_type": "execute_result"
    }
   ],
   "source": [
    "X = income_df.drop([\"relationship\", \"capitalgain\", \"capitalloss\", \"capitalloss\", \"SalStat\"], axis=1)\n",
    "Y = income_df[\"SalStat\"]\n",
    "X.head()"
   ]
  },
  {
   "cell_type": "code",
   "execution_count": 7,
   "id": "83c7b9c1",
   "metadata": {},
   "outputs": [
    {
     "name": "stdout",
     "output_type": "stream",
     "text": [
      "(31978, 97)\n"
     ]
    }
   ],
   "source": [
    "labels = ['JobType', 'EdType', 'maritalstatus', 'occupation', 'race', 'gender', 'nativecountry'] \n",
    "features = [X[\"age\"].to_numpy().reshape(-1,1), X[\"hoursperweek\"].to_numpy().reshape(-1,1)]\n",
    "\n",
    "for l in labels: \n",
    "    le = LabelEncoder() \n",
    "    jt = le.fit_transform(X[l]) \n",
    "    ohe = OneHotEncoder() \n",
    "    features.append(ohe.fit_transform(jt.reshape(-1,1)).toarray()) \n",
    "    \n",
    "X_arr = np.hstack(features) \n",
    "sc = StandardScaler() \n",
    "X_arr = sc.fit_transform(X_arr) \n",
    "print(X_arr.shape) "
   ]
  },
  {
   "cell_type": "code",
   "execution_count": 8,
   "id": "665487dc",
   "metadata": {},
   "outputs": [
    {
     "name": "stdout",
     "output_type": "stream",
     "text": [
      "Train: (9593, 97) (9593,)\n"
     ]
    }
   ],
   "source": [
    "train_X, test_X, train_y, test_y = train_test_split(X_arr, Y, train_size = 0.3, random_state=42, stratify=Y) \n",
    "print(\"Train:\", train_X.shape, train_y.shape) "
   ]
  },
  {
   "cell_type": "code",
   "execution_count": 9,
   "id": "9d0f7f7c",
   "metadata": {},
   "outputs": [],
   "source": [
    "results = pd.DataFrame(columns=[\"algorithm\",\"accuracy\",\"precision\",\"recall\",\"f1\"])"
   ]
  },
  {
   "cell_type": "markdown",
   "id": "a79557aa",
   "metadata": {},
   "source": [
    "# Q1 - Logistic Regression"
   ]
  },
  {
   "cell_type": "code",
   "execution_count": 10,
   "id": "7adba509",
   "metadata": {},
   "outputs": [],
   "source": [
    "algorithm = \"Logistic Repression\" \n",
    "\n",
    "logR = LogisticRegression()\n",
    "logR.fit(train_X, train_y)\n",
    "preds = logR.predict(test_X)\n",
    "\n",
    "acc = accuracy_score(test_y, preds)\n",
    "prec = precision_score(test_y, preds)\n",
    "f1 = f1_score(test_y, preds)\n",
    "rec = recall_score(test_y, preds)\n",
    "\n",
    "results = results.append({ \n",
    "    \"algorithm\": algorithm, \n",
    "    \"accuracy\": acc, \n",
    "    \"precision\": prec, \n",
    "    \"recall\": rec,\n",
    "    \"f1\": f1 \n",
    "}, ignore_index=True) "
   ]
  },
  {
   "cell_type": "code",
   "execution_count": 11,
   "id": "9d97c478",
   "metadata": {},
   "outputs": [
    {
     "name": "stdout",
     "output_type": "stream",
     "text": [
      "Accuracy: [0.8327004690641054], precision: [0.6896950092421442], f1-score: [0.6145136387030364]\n",
      "[[15655  1343]\n",
      " [ 2402  2985]]\n"
     ]
    }
   ],
   "source": [
    "print(f\"Accuracy: [{acc}], precision: [{prec}], f1-score: [{f1}]\") \n",
    "print(confusion_matrix(test_y, preds)) "
   ]
  },
  {
   "cell_type": "markdown",
   "id": "18d94d6a",
   "metadata": {},
   "source": [
    "# Q2 - k-NN"
   ]
  },
  {
   "cell_type": "code",
   "execution_count": 12,
   "id": "34c9e49c",
   "metadata": {},
   "outputs": [],
   "source": [
    "algorithm = \"k-NN\" \n",
    "knn = KNeighborsClassifier()\n",
    "knn.fit(train_X, train_y) \n",
    "preds = knn.predict(test_X) \n",
    "\n",
    "acc = accuracy_score(test_y, preds) \n",
    "prec = precision_score(test_y, preds) \n",
    "f1 = f1_score(test_y, preds) \n",
    "rec = recall_score(test_y, preds) \n",
    "\n",
    "results = results.append({ \n",
    "    \"algorithm\": algorithm, \n",
    "    \"accuracy\": acc, \n",
    "    \"precision\": prec, \n",
    "    \"recall\": rec,\n",
    "    \"f1\": f1 \n",
    "}, ignore_index=True) "
   ]
  },
  {
   "cell_type": "code",
   "execution_count": 13,
   "id": "9621a45e",
   "metadata": {},
   "outputs": [
    {
     "name": "stdout",
     "output_type": "stream",
     "text": [
      "Accuracy: [0.8104534286352468], precision: [0.6185246581019478], f1-score: [0.5845491040830314]\n",
      "[[15157  1841]\n",
      " [ 2402  2985]]\n"
     ]
    }
   ],
   "source": [
    "print(f\"Accuracy: [{acc}], precision: [{prec}], f1-score: [{f1}]\") \n",
    "print(confusion_matrix(test_y, preds)) "
   ]
  },
  {
   "cell_type": "markdown",
   "id": "756a0f05",
   "metadata": {},
   "source": [
    "# Q3 - Decision Tree"
   ]
  },
  {
   "cell_type": "code",
   "execution_count": 14,
   "id": "537c4251",
   "metadata": {},
   "outputs": [],
   "source": [
    "algorithm = \"Decision Tree\" \n",
    "\n",
    "dt = DecisionTreeClassifier() \n",
    "dt.fit(train_X, train_y) \n",
    "preds = dt.predict(test_X) \n",
    "\n",
    "acc = accuracy_score(test_y, preds)\n",
    "prec = precision_score(test_y, preds)\n",
    "f1 = f1_score(test_y, preds) \n",
    "rec = recall_score(test_y, preds)\n",
    "\n",
    "results = results.append({ \n",
    "    \"algorithm\": algorithm, \n",
    "    \"accuracy\": acc, \n",
    "    \"precision\": prec, \n",
    "    \"recall\": rec,\n",
    "    \"f1\": f1 \n",
    "}, ignore_index=True) "
   ]
  },
  {
   "cell_type": "code",
   "execution_count": 15,
   "id": "e8291085",
   "metadata": {},
   "outputs": [
    {
     "name": "stdout",
     "output_type": "stream",
     "text": [
      "Accuracy: [0.7799865981684163], precision: [0.5430648769574944], f1-score: [0.541903078783369]\n",
      "[[14547  2451]\n",
      " [ 2474  2913]]\n"
     ]
    }
   ],
   "source": [
    "print(f\"Accuracy: [{acc}], precision: [{prec}], f1-score: [{f1}]\") \n",
    "print(confusion_matrix(test_y, preds)) "
   ]
  },
  {
   "cell_type": "markdown",
   "id": "da8773ff",
   "metadata": {},
   "source": [
    "# Q4 - Random Forest"
   ]
  },
  {
   "cell_type": "code",
   "execution_count": 16,
   "id": "98fef86c",
   "metadata": {},
   "outputs": [],
   "source": [
    "algorithm = \"Random Forest\" \n",
    "\n",
    "rf = RandomForestClassifier()\n",
    "rf.fit(train_X, train_y)\n",
    "preds = rf.predict(test_X) \n",
    "\n",
    "acc = accuracy_score(test_y, preds) \n",
    "prec = precision_score(test_y, preds) \n",
    "f1 = f1_score(test_y, preds) \n",
    "rec = recall_score(test_y, preds) \n",
    "\n",
    "results = results.append({ \n",
    "    \"algorithm\": algorithm, \n",
    "    \"accuracy\": acc, \n",
    "    \"precision\": prec, \n",
    "    \"recall\": rec,\n",
    "    \"f1\": f1 \n",
    "}, ignore_index=True) "
   ]
  },
  {
   "cell_type": "code",
   "execution_count": 17,
   "id": "23581a25",
   "metadata": {},
   "outputs": [
    {
     "name": "stdout",
     "output_type": "stream",
     "text": [
      "Accuracy: [0.8178691087781997], precision: [0.6396588486140725], f1-score: [0.5954153021732659]\n",
      "[[15308  1690]\n",
      " [ 2387  3000]]\n"
     ]
    }
   ],
   "source": [
    "print(f\"Accuracy: [{acc}], precision: [{prec}], f1-score: [{f1}]\") \n",
    "print(confusion_matrix(test_y, preds)) "
   ]
  },
  {
   "cell_type": "markdown",
   "id": "f0685506",
   "metadata": {},
   "source": [
    "# Q5 - Naive Bayes"
   ]
  },
  {
   "cell_type": "code",
   "execution_count": 18,
   "id": "30996059",
   "metadata": {},
   "outputs": [],
   "source": [
    "algorithm = \"Naive Bayes\" \n",
    "\n",
    "gnb = GaussianNB() \n",
    "gnb.fit(train_X, train_y) \n",
    "preds = gnb.predict(test_X)\n",
    "\n",
    "acc = accuracy_score(test_y, preds) \n",
    "prec = precision_score(test_y, preds) \n",
    "f1 = f1_score(test_y, preds) \n",
    "rec = recall_score(test_y, preds) \n",
    "\n",
    "results = results.append({ \n",
    "    \"algorithm\": algorithm, \n",
    "    \"accuracy\": acc, \n",
    "    \"precision\": prec, \n",
    "    \"recall\": rec,\n",
    "    \"f1\": f1 \n",
    "}, ignore_index=True) "
   ]
  },
  {
   "cell_type": "code",
   "execution_count": 19,
   "id": "25f052c7",
   "metadata": {},
   "outputs": [
    {
     "name": "stdout",
     "output_type": "stream",
     "text": [
      "Accuracy: [0.3449184721911995], precision: [0.26505596920427493], f1-score: [0.4164743334659769]\n",
      "[[ 2488 14510]\n",
      " [  154  5233]]\n"
     ]
    }
   ],
   "source": [
    "print(f\"Accuracy: [{acc}], precision: [{prec}], f1-score: [{f1}]\") \n",
    "print(confusion_matrix(test_y, preds)) "
   ]
  },
  {
   "cell_type": "markdown",
   "id": "89427cd7",
   "metadata": {},
   "source": [
    "# Comparison"
   ]
  },
  {
   "cell_type": "code",
   "execution_count": 20,
   "id": "b77bc814",
   "metadata": {},
   "outputs": [
    {
     "data": {
      "text/html": [
       "<div>\n",
       "<style scoped>\n",
       "    .dataframe tbody tr th:only-of-type {\n",
       "        vertical-align: middle;\n",
       "    }\n",
       "\n",
       "    .dataframe tbody tr th {\n",
       "        vertical-align: top;\n",
       "    }\n",
       "\n",
       "    .dataframe thead th {\n",
       "        text-align: right;\n",
       "    }\n",
       "</style>\n",
       "<table border=\"1\" class=\"dataframe\">\n",
       "  <thead>\n",
       "    <tr style=\"text-align: right;\">\n",
       "      <th></th>\n",
       "      <th>algorithm</th>\n",
       "      <th>accuracy</th>\n",
       "      <th>precision</th>\n",
       "      <th>recall</th>\n",
       "      <th>f1</th>\n",
       "    </tr>\n",
       "  </thead>\n",
       "  <tbody>\n",
       "    <tr>\n",
       "      <th>0</th>\n",
       "      <td>Logistic Repression</td>\n",
       "      <td>0.8327</td>\n",
       "      <td>0.689695</td>\n",
       "      <td>0.554112</td>\n",
       "      <td>0.614514</td>\n",
       "    </tr>\n",
       "    <tr>\n",
       "      <th>1</th>\n",
       "      <td>k-NN</td>\n",
       "      <td>0.810453</td>\n",
       "      <td>0.618525</td>\n",
       "      <td>0.554112</td>\n",
       "      <td>0.584549</td>\n",
       "    </tr>\n",
       "    <tr>\n",
       "      <th>2</th>\n",
       "      <td>Decision Tree</td>\n",
       "      <td>0.779987</td>\n",
       "      <td>0.543065</td>\n",
       "      <td>0.540746</td>\n",
       "      <td>0.541903</td>\n",
       "    </tr>\n",
       "    <tr>\n",
       "      <th>3</th>\n",
       "      <td>Random Forest</td>\n",
       "      <td>0.817869</td>\n",
       "      <td>0.639659</td>\n",
       "      <td>0.556896</td>\n",
       "      <td>0.595415</td>\n",
       "    </tr>\n",
       "    <tr>\n",
       "      <th>4</th>\n",
       "      <td>Naive Bayes</td>\n",
       "      <td>0.344918</td>\n",
       "      <td>0.265056</td>\n",
       "      <td>0.971413</td>\n",
       "      <td>0.416474</td>\n",
       "    </tr>\n",
       "  </tbody>\n",
       "</table>\n",
       "</div>"
      ],
      "text/plain": [
       "             algorithm  accuracy precision    recall        f1\n",
       "0  Logistic Repression    0.8327  0.689695  0.554112  0.614514\n",
       "1                 k-NN  0.810453  0.618525  0.554112  0.584549\n",
       "2        Decision Tree  0.779987  0.543065  0.540746  0.541903\n",
       "3        Random Forest  0.817869  0.639659  0.556896  0.595415\n",
       "4          Naive Bayes  0.344918  0.265056  0.971413  0.416474"
      ]
     },
     "execution_count": 20,
     "metadata": {},
     "output_type": "execute_result"
    }
   ],
   "source": [
    "results"
   ]
  },
  {
   "cell_type": "code",
   "execution_count": 21,
   "id": "8bb6d65d",
   "metadata": {},
   "outputs": [
    {
     "data": {
      "text/plain": [
       "<AxesSubplot:xlabel='algorithm', ylabel='accuracy'>"
      ]
     },
     "execution_count": 21,
     "metadata": {},
     "output_type": "execute_result"
    },
    {
     "data": {
      "image/png": "[encoded data removed]",
      "text/plain": [
       "<Figure size 1080x576 with 1 Axes>"
      ]
     },
     "metadata": {
      "needs_background": "light"
     },
     "output_type": "display_data"
    }
   ],
   "source": [
    "plt.figure(figsize = (15,8))\n",
    "sns.barplot(x=results.algorithm, y=results.accuracy)"
   ]
  },
  {
   "cell_type": "code",
   "execution_count": 22,
   "id": "859dbb94",
   "metadata": {},
   "outputs": [
    {
     "data": {
      "text/plain": [
       "<AxesSubplot:xlabel='algorithm', ylabel='precision'>"
      ]
     },
     "execution_count": 22,
     "metadata": {},
     "output_type": "execute_result"
    },
    {
     "data": {
      "image/png": "[encoded data removed]",
      "text/plain": [
       "<Figure size 1080x576 with 1 Axes>"
      ]
     },
     "metadata": {
      "needs_background": "light"
     },
     "output_type": "display_data"
    }
   ],
   "source": [
    "plt.figure(figsize = (15,8))\n",
    "sns.barplot(x=results.algorithm, y=results.precision)"
   ]
  },
  {
   "cell_type": "code",
   "execution_count": 23,
   "id": "3dec83da",
   "metadata": {},
   "outputs": [
    {
     "data": {
      "text/plain": [
       "<AxesSubplot:xlabel='algorithm', ylabel='recall'>"
      ]
     },
     "execution_count": 23,
     "metadata": {},
     "output_type": "execute_result"
    },
    {
     "data": {
      "image/png": "[encoded data removed]",
      "text/plain": [
       "<Figure size 1080x576 with 1 Axes>"
      ]
     },
     "metadata": {
      "needs_background": "light"
     },
     "output_type": "display_data"
    }
   ],
   "source": [
    "plt.figure(figsize = (15,8))\n",
    "sns.barplot(x=results.algorithm, y=results.recall)"
   ]
  },
  {
   "cell_type": "code",
   "execution_count": 24,
   "id": "142ab7df",
   "metadata": {},
   "outputs": [
    {
     "data": {
      "text/plain": [
       "<AxesSubplot:xlabel='algorithm', ylabel='precision'>"
      ]
     },
     "execution_count": 24,
     "metadata": {},
     "output_type": "execute_result"
    },
    {
     "data": {
      "image/png": "[encoded data removed]",
      "text/plain": [
       "<Figure size 1080x576 with 1 Axes>"
      ]
     },
     "metadata": {
      "needs_background": "light"
     },
     "output_type": "display_data"
    }
   ],
   "source": [
    "plt.figure(figsize = (15,8))\n",
    "sns.barplot(x=results.algorithm, y=results.precision)"
   ]
  }
 ],
 "metadata": {
  "kernelspec": {
   "display_name": "Python 3 (ipykernel)",
   "language": "python",
   "name": "python3"
  },
  "language_info": {
   "codemirror_mode": {
    "name": "ipython",
    "version": 3
   },
   "file_extension": ".py",
   "mimetype": "text/x-python",
   "name": "python",
   "nbconvert_exporter": "python",
   "pygments_lexer": "ipython3",
   "version": "3.9.7"
  }
 },
 "nbformat": 4,
 "nbformat_minor": 5
}
