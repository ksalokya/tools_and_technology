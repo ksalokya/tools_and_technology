{
 "cells": [
  {
   "cell_type": "markdown",
   "id": "b0fdeb41",
   "metadata": {},
   "source": [
    "Q1 - Create Lists ,Tuples, Dictionaries and Sets.Print elements stored in each case."
   ]
  },
  {
   "cell_type": "code",
   "execution_count": 1,
   "id": "d358ee61",
   "metadata": {},
   "outputs": [
    {
     "name": "stdout",
     "output_type": "stream",
     "text": [
      "Tuple :  ('HP', 'DELL', 'Lenovo')\n",
      "List :  [1, 2, 3]\n",
      "Set :  {1, 2, 3}\n"
     ]
    }
   ],
   "source": [
    "mytuple = (\"HP\", \"DELL\", \"Lenovo\")\n",
    "print(\"Tuple : \",mytuple)\n",
    "\n",
    "mylist = [1, 2, 3]\n",
    "print(\"List : \",mylist)\n",
    "\n",
    "myset = {1, 2, 3}\n",
    "print(\"Set : \",myset)"
   ]
  },
  {
   "cell_type": "markdown",
   "id": "df982f2b",
   "metadata": {},
   "source": [
    "Q2 i) Select the Element kept at 2 nd position. From a List and display it."
   ]
  },
  {
   "cell_type": "code",
   "execution_count": 2,
   "id": "72d69034",
   "metadata": {},
   "outputs": [
    {
     "name": "stdout",
     "output_type": "stream",
     "text": [
      "Element at 2nd pos in list :  3\n"
     ]
    }
   ],
   "source": [
    "print('Element at 2nd pos in list : ',mylist[2])"
   ]
  },
  {
   "cell_type": "markdown",
   "id": "7b388071",
   "metadata": {},
   "source": [
    "Q2 ii) Create numpy array by already existing list and display its datatype and dimension."
   ]
  },
  {
   "cell_type": "code",
   "execution_count": 3,
   "id": "daeecefe",
   "metadata": {},
   "outputs": [
    {
     "name": "stdout",
     "output_type": "stream",
     "text": [
      "int32\n",
      "(3,)\n"
     ]
    }
   ],
   "source": [
    "import numpy as np\n",
    "npArray = np.array(mylist)\n",
    "\n",
    "print(npArray.dtype) \n",
    "print(npArray.shape)"
   ]
  },
  {
   "cell_type": "markdown",
   "id": "a438d7ab",
   "metadata": {},
   "source": [
    "Q3 - Use range function to generate values with name RangeVar. Keep lower bound as 1, higher bound 50. and each value should have difference of 10."
   ]
  },
  {
   "cell_type": "code",
   "execution_count": 4,
   "id": "99327af4",
   "metadata": {},
   "outputs": [
    {
     "name": "stdout",
     "output_type": "stream",
     "text": [
      "[1, 11, 21, 31, 41]"
     ]
    }
   ],
   "source": [
    "RangeVar = []\n",
    "for i in range(1,50,10):\n",
    "    RangeVar.append(i)\n",
    "    \n",
    "print(RangeVar,end=\"\")"
   ]
  },
  {
   "cell_type": "markdown",
   "id": "89ea6e03",
   "metadata": {},
   "source": [
    "Q4 - Create a string ‘Techniquelab’. Find out the character at 5th position. Find out the index of ‘l’ in the string."
   ]
  },
  {
   "cell_type": "code",
   "execution_count": 5,
   "id": "3d263827",
   "metadata": {},
   "outputs": [
    {
     "name": "stdout",
     "output_type": "stream",
     "text": [
      "i\n",
      "9\n"
     ]
    }
   ],
   "source": [
    "str = 'Techniquelab'\n",
    "\n",
    "print(str[5])\n",
    "print(str.index('l'));"
   ]
  },
  {
   "cell_type": "markdown",
   "id": "e33992b0",
   "metadata": {},
   "source": [
    "Q5 - In 3rd question, the values populted in RangeVar.Find out if 11 exists and also find out the value at 3rd index."
   ]
  },
  {
   "cell_type": "code",
   "execution_count": 6,
   "id": "e578f433",
   "metadata": {},
   "outputs": [
    {
     "name": "stdout",
     "output_type": "stream",
     "text": [
      "11 exits in RangeVar\n",
      "Element at index 3 :  31\n"
     ]
    }
   ],
   "source": [
    "if 11 in RangeVar:\n",
    "    print(\"11 exits in RangeVar\")\n",
    "else:\n",
    "    print(\"11 doesn't exits in RangeVar\")\n",
    "    \n",
    "print(\"Element at index 3 : \",RangeVar[3])"
   ]
  },
  {
   "cell_type": "markdown",
   "id": "78c10ec5",
   "metadata": {},
   "source": [
    "Q6 - Create a list with values 100, ‘Alice’, 12 and ‘Programmer’.Display the whole list.Then add value ‘Python’ to the list and display the modified list."
   ]
  },
  {
   "cell_type": "code",
   "execution_count": 7,
   "id": "744d1b85",
   "metadata": {},
   "outputs": [
    {
     "name": "stdout",
     "output_type": "stream",
     "text": [
      "[100, 'Alice', 12, 'Programmer']\n",
      "[100, 'Alice', 12, 'Programmer', 'Python']\n"
     ]
    }
   ],
   "source": [
    "l = [100,'Alice',12,'Programmer']\n",
    "print(l)\n",
    "l.append(\"Python\")\n",
    "print(l)"
   ]
  },
  {
   "cell_type": "markdown",
   "id": "40e07eb9",
   "metadata": {},
   "source": [
    "Q7 - Create a tuple with values:100, ‘Alice’, 12 and ‘Programmer’.Display the tuple.Then add values ‘Python’ and ‘ML’ to it and display the modified tuple."
   ]
  },
  {
   "cell_type": "code",
   "execution_count": 8,
   "id": "909be481",
   "metadata": {},
   "outputs": [
    {
     "name": "stdout",
     "output_type": "stream",
     "text": [
      "[100, 'Alice', 12, 'Programmer', 'Python']\n",
      "(100, 'Alice', 12, 'Programmer', 'Python', 'ML')\n"
     ]
    }
   ],
   "source": [
    "l1 = (100,'Alice',12,'Programmer')\n",
    "print(l)\n",
    "l2 = (\"Python\",\"ML\")\n",
    "l3 = l1 + l2\n",
    "print(l3)"
   ]
  },
  {
   "cell_type": "markdown",
   "id": "928be379",
   "metadata": {},
   "source": [
    "Q8 - In the tuple with values :100, ‘Alice’, 12 and ‘Programmer’,print the values from index 0 to 2 ,getting displayed on console thrice."
   ]
  },
  {
   "cell_type": "code",
   "execution_count": 9,
   "id": "cf05c190",
   "metadata": {},
   "outputs": [
    {
     "name": "stdout",
     "output_type": "stream",
     "text": [
      "(100, 'Alice', 12)\n",
      "(100, 'Alice', 12)\n",
      "(100, 'Alice', 12)\n"
     ]
    }
   ],
   "source": [
    "for i in range(0,3):\n",
    "    print(l3[0:3])"
   ]
  }
 ],
 "metadata": {
  "kernelspec": {
   "display_name": "Python 3 (ipykernel)",
   "language": "python",
   "name": "python3"
  },
  "language_info": {
   "codemirror_mode": {
    "name": "ipython",
    "version": 3
   },
   "file_extension": ".py",
   "mimetype": "text/x-python",
   "name": "python",
   "nbconvert_exporter": "python",
   "pygments_lexer": "ipython3",
   "version": "3.9.7"
  }
 },
 "nbformat": 4,
 "nbformat_minor": 5
}
